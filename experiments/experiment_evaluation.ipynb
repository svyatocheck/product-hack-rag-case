{
 "cells": [
  {
   "cell_type": "code",
   "execution_count": 6,
   "id": "14733ad5",
   "metadata": {},
   "outputs": [
    {
     "name": "stdout",
     "output_type": "stream",
     "text": [
      "Defaulting to user installation because normal site-packages is not writeable\n",
      "Requirement already satisfied: pandas in /home/svyatoslav/.local/lib/python3.10/site-packages (2.2.2)\n",
      "Requirement already satisfied: tqdm in /home/svyatoslav/.local/lib/python3.10/site-packages (4.66.5)\n",
      "Requirement already satisfied: requests in /home/svyatoslav/.local/lib/python3.10/site-packages (2.32.3)\n",
      "Requirement already satisfied: langchain in /home/svyatoslav/.local/lib/python3.10/site-packages (0.3.0)\n",
      "Requirement already satisfied: openai in /home/svyatoslav/.local/lib/python3.10/site-packages (1.45.0)\n",
      "Requirement already satisfied: datasets in /home/svyatoslav/.local/lib/python3.10/site-packages (3.0.0)\n",
      "Requirement already satisfied: ragas in /home/svyatoslav/.local/lib/python3.10/site-packages (0.1.18)\n",
      "Requirement already satisfied: tzdata>=2022.7 in /home/svyatoslav/.local/lib/python3.10/site-packages (from pandas) (2024.1)\n",
      "Requirement already satisfied: numpy>=1.22.4 in /home/svyatoslav/.local/lib/python3.10/site-packages (from pandas) (1.26.4)\n",
      "Requirement already satisfied: pytz>=2020.1 in /usr/lib/python3/dist-packages (from pandas) (2022.1)\n",
      "Requirement already satisfied: python-dateutil>=2.8.2 in /home/svyatoslav/.local/lib/python3.10/site-packages (from pandas) (2.9.0.post0)\n",
      "Requirement already satisfied: charset-normalizer<4,>=2 in /home/svyatoslav/.local/lib/python3.10/site-packages (from requests) (3.3.2)\n",
      "Requirement already satisfied: certifi>=2017.4.17 in /usr/lib/python3/dist-packages (from requests) (2020.6.20)\n",
      "Requirement already satisfied: idna<4,>=2.5 in /usr/lib/python3/dist-packages (from requests) (3.3)\n",
      "Requirement already satisfied: urllib3<3,>=1.21.1 in /usr/lib/python3/dist-packages (from requests) (1.26.5)\n",
      "Requirement already satisfied: SQLAlchemy<3,>=1.4 in /home/svyatoslav/.local/lib/python3.10/site-packages (from langchain) (2.0.34)\n",
      "Requirement already satisfied: tenacity!=8.4.0,<9.0.0,>=8.1.0 in /home/svyatoslav/.local/lib/python3.10/site-packages (from langchain) (8.5.0)\n",
      "Requirement already satisfied: aiohttp<4.0.0,>=3.8.3 in /home/svyatoslav/.local/lib/python3.10/site-packages (from langchain) (3.10.5)\n",
      "Requirement already satisfied: langsmith<0.2.0,>=0.1.17 in /home/svyatoslav/.local/lib/python3.10/site-packages (from langchain) (0.1.120)\n",
      "Requirement already satisfied: langchain-core<0.4.0,>=0.3.0 in /home/svyatoslav/.local/lib/python3.10/site-packages (from langchain) (0.3.0)\n",
      "Requirement already satisfied: pydantic<3.0.0,>=2.7.4 in /home/svyatoslav/.local/lib/python3.10/site-packages (from langchain) (2.9.1)\n",
      "Requirement already satisfied: PyYAML>=5.3 in /usr/lib/python3/dist-packages (from langchain) (5.4.1)\n",
      "Requirement already satisfied: langchain-text-splitters<0.4.0,>=0.3.0 in /home/svyatoslav/.local/lib/python3.10/site-packages (from langchain) (0.3.0)\n",
      "Requirement already satisfied: async-timeout<5.0.0,>=4.0.0 in /home/svyatoslav/.local/lib/python3.10/site-packages (from langchain) (4.0.3)\n",
      "Requirement already satisfied: sniffio in /home/svyatoslav/.local/lib/python3.10/site-packages (from openai) (1.3.1)\n",
      "Requirement already satisfied: jiter<1,>=0.4.0 in /home/svyatoslav/.local/lib/python3.10/site-packages (from openai) (0.5.0)\n",
      "Requirement already satisfied: httpx<1,>=0.23.0 in /home/svyatoslav/.local/lib/python3.10/site-packages (from openai) (0.27.0)\n",
      "Requirement already satisfied: typing-extensions<5,>=4.11 in /home/svyatoslav/.local/lib/python3.10/site-packages (from openai) (4.12.2)\n",
      "Requirement already satisfied: distro<2,>=1.7.0 in /usr/lib/python3/dist-packages (from openai) (1.7.0)\n",
      "Requirement already satisfied: anyio<5,>=3.5.0 in /home/svyatoslav/.local/lib/python3.10/site-packages (from openai) (4.4.0)\n",
      "Requirement already satisfied: multiprocess in /home/svyatoslav/.local/lib/python3.10/site-packages (from datasets) (0.70.16)\n",
      "Requirement already satisfied: fsspec[http]<=2024.6.1,>=2023.1.0 in /home/svyatoslav/.local/lib/python3.10/site-packages (from datasets) (2024.6.1)\n",
      "Requirement already satisfied: xxhash in /home/svyatoslav/.local/lib/python3.10/site-packages (from datasets) (3.5.0)\n",
      "Requirement already satisfied: filelock in /usr/lib/python3/dist-packages (from datasets) (3.6.0)\n",
      "Requirement already satisfied: packaging in /home/svyatoslav/.local/lib/python3.10/site-packages (from datasets) (24.1)\n",
      "Requirement already satisfied: dill<0.3.9,>=0.3.0 in /home/svyatoslav/.local/lib/python3.10/site-packages (from datasets) (0.3.8)\n",
      "Requirement already satisfied: huggingface-hub>=0.22.0 in /home/svyatoslav/.local/lib/python3.10/site-packages (from datasets) (0.24.7)\n",
      "Requirement already satisfied: pyarrow>=15.0.0 in /home/svyatoslav/.local/lib/python3.10/site-packages (from datasets) (17.0.0)\n",
      "Requirement already satisfied: appdirs in /usr/lib/python3/dist-packages (from ragas) (1.4.4)\n",
      "Requirement already satisfied: pysbd>=0.3.4 in /home/svyatoslav/.local/lib/python3.10/site-packages (from ragas) (0.3.4)\n",
      "Requirement already satisfied: nest-asyncio in /home/svyatoslav/.local/lib/python3.10/site-packages (from ragas) (1.6.0)\n",
      "Requirement already satisfied: langchain-openai in /home/svyatoslav/.local/lib/python3.10/site-packages (from ragas) (0.2.0)\n",
      "Requirement already satisfied: tiktoken in /home/svyatoslav/.local/lib/python3.10/site-packages (from ragas) (0.7.0)\n",
      "Requirement already satisfied: langchain-community in /home/svyatoslav/.local/lib/python3.10/site-packages (from ragas) (0.3.0)\n",
      "Requirement already satisfied: aiosignal>=1.1.2 in /home/svyatoslav/.local/lib/python3.10/site-packages (from aiohttp<4.0.0,>=3.8.3->langchain) (1.3.1)\n",
      "Requirement already satisfied: frozenlist>=1.1.1 in /home/svyatoslav/.local/lib/python3.10/site-packages (from aiohttp<4.0.0,>=3.8.3->langchain) (1.4.1)\n",
      "Requirement already satisfied: aiohappyeyeballs>=2.3.0 in /home/svyatoslav/.local/lib/python3.10/site-packages (from aiohttp<4.0.0,>=3.8.3->langchain) (2.4.0)\n",
      "Requirement already satisfied: yarl<2.0,>=1.0 in /home/svyatoslav/.local/lib/python3.10/site-packages (from aiohttp<4.0.0,>=3.8.3->langchain) (1.11.1)\n",
      "Requirement already satisfied: attrs>=17.3.0 in /home/svyatoslav/.local/lib/python3.10/site-packages (from aiohttp<4.0.0,>=3.8.3->langchain) (24.2.0)\n",
      "Requirement already satisfied: multidict<7.0,>=4.5 in /home/svyatoslav/.local/lib/python3.10/site-packages (from aiohttp<4.0.0,>=3.8.3->langchain) (6.1.0)\n",
      "Requirement already satisfied: exceptiongroup>=1.0.2 in /home/svyatoslav/.local/lib/python3.10/site-packages (from anyio<5,>=3.5.0->openai) (1.2.2)\n",
      "Requirement already satisfied: httpcore==1.* in /home/svyatoslav/.local/lib/python3.10/site-packages (from httpx<1,>=0.23.0->openai) (1.0.5)\n",
      "Requirement already satisfied: h11<0.15,>=0.13 in /home/svyatoslav/.local/lib/python3.10/site-packages (from httpcore==1.*->httpx<1,>=0.23.0->openai) (0.14.0)\n",
      "Requirement already satisfied: jsonpatch<2.0,>=1.33 in /home/svyatoslav/.local/lib/python3.10/site-packages (from langchain-core<0.4.0,>=0.3.0->langchain) (1.33)\n",
      "Requirement already satisfied: orjson<4.0.0,>=3.9.14 in /home/svyatoslav/.local/lib/python3.10/site-packages (from langsmith<0.2.0,>=0.1.17->langchain) (3.10.7)\n",
      "Requirement already satisfied: annotated-types>=0.6.0 in /home/svyatoslav/.local/lib/python3.10/site-packages (from pydantic<3.0.0,>=2.7.4->langchain) (0.7.0)\n",
      "Requirement already satisfied: pydantic-core==2.23.3 in /home/svyatoslav/.local/lib/python3.10/site-packages (from pydantic<3.0.0,>=2.7.4->langchain) (2.23.3)\n",
      "Requirement already satisfied: six>=1.5 in /usr/lib/python3/dist-packages (from python-dateutil>=2.8.2->pandas) (1.16.0)\n",
      "Requirement already satisfied: greenlet!=0.4.17 in /home/svyatoslav/.local/lib/python3.10/site-packages (from SQLAlchemy<3,>=1.4->langchain) (3.1.0)\n",
      "Requirement already satisfied: dataclasses-json<0.7,>=0.5.7 in /home/svyatoslav/.local/lib/python3.10/site-packages (from langchain-community->ragas) (0.6.7)\n",
      "Requirement already satisfied: pydantic-settings<3.0.0,>=2.4.0 in /home/svyatoslav/.local/lib/python3.10/site-packages (from langchain-community->ragas) (2.5.2)\n",
      "Requirement already satisfied: regex>=2022.1.18 in /home/svyatoslav/.local/lib/python3.10/site-packages (from tiktoken->ragas) (2024.9.11)\n",
      "Requirement already satisfied: marshmallow<4.0.0,>=3.18.0 in /home/svyatoslav/.local/lib/python3.10/site-packages (from dataclasses-json<0.7,>=0.5.7->langchain-community->ragas) (3.22.0)\n",
      "Requirement already satisfied: typing-inspect<1,>=0.4.0 in /home/svyatoslav/.local/lib/python3.10/site-packages (from dataclasses-json<0.7,>=0.5.7->langchain-community->ragas) (0.9.0)\n",
      "Requirement already satisfied: jsonpointer>=1.9 in /home/svyatoslav/.local/lib/python3.10/site-packages (from jsonpatch<2.0,>=1.33->langchain-core<0.4.0,>=0.3.0->langchain) (3.0.0)\n",
      "^C\n",
      "\u001b[31mERROR: Operation cancelled by user\u001b[0m\u001b[31m\n",
      "\u001b[0mNote: you may need to restart the kernel to use updated packages.\n",
      "Defaulting to user installation because normal site-packages is not writeable\n",
      "Requirement already satisfied: openpyxl in /home/svyatoslav/.local/lib/python3.10/site-packages (3.1.5)\n",
      "Requirement already satisfied: et-xmlfile in /home/svyatoslav/.local/lib/python3.10/site-packages (from openpyxl) (1.1.0)\n",
      "Note: you may need to restart the kernel to use updated packages.\n"
     ]
    }
   ],
   "source": [
    "%pip install pandas tqdm requests langchain openai datasets ragas\n",
    "%pip install openpyxl"
   ]
  },
  {
   "cell_type": "code",
   "execution_count": 3,
   "id": "4ed3ed20bda49798",
   "metadata": {
    "ExecuteTime": {
     "end_time": "2024-09-11T12:32:28.916248Z",
     "start_time": "2024-09-11T12:32:28.910897Z"
    },
    "collapsed": false
   },
   "outputs": [
    {
     "name": "stderr",
     "output_type": "stream",
     "text": [
      "/home/svyatoslav/.local/lib/python3.10/site-packages/pydantic/_internal/_fields.py:132: UserWarning: Field \"model_name\" in _VertexAIBase has conflict with protected namespace \"model_\".\n",
      "\n",
      "You may be able to resolve this warning by setting `model_config['protected_namespaces'] = ()`.\n",
      "  warnings.warn(\n",
      "/home/svyatoslav/.local/lib/python3.10/site-packages/pydantic/_internal/_fields.py:132: UserWarning: Field \"model_name\" in _VertexAICommon has conflict with protected namespace \"model_\".\n",
      "\n",
      "You may be able to resolve this warning by setting `model_config['protected_namespaces'] = ()`.\n",
      "  warnings.warn(\n",
      "/home/svyatoslav/.local/lib/python3.10/site-packages/ragas/metrics/__init__.py:4: LangChainDeprecationWarning: As of langchain-core 0.3.0, LangChain uses pydantic v2 internally. The langchain_core.pydantic_v1 module was a compatibility shim for pydantic v1, and should no longer be used. Please update the code to import from Pydantic directly.\n",
      "\n",
      "For example, replace imports like: `from langchain_core.pydantic_v1 import BaseModel`\n",
      "with: `from pydantic import BaseModel`\n",
      "or the v1 compatibility namespace if you are working in a code base that has not been fully upgraded to pydantic 2 yet. \tfrom pydantic.v1 import BaseModel\n",
      "\n",
      "  from ragas.metrics._answer_correctness import AnswerCorrectness, answer_correctness\n",
      "/home/svyatoslav/.local/lib/python3.10/site-packages/ragas/metrics/__init__.py:7: LangChainDeprecationWarning: As of langchain-core 0.3.0, LangChain uses pydantic v2 internally. The langchain.pydantic_v1 module was a compatibility shim for pydantic v1, and should no longer be used. Please update the code to import from Pydantic directly.\n",
      "\n",
      "For example, replace imports like: `from langchain.pydantic_v1 import BaseModel`\n",
      "with: `from pydantic import BaseModel`\n",
      "or the v1 compatibility namespace if you are working in a code base that has not been fully upgraded to pydantic 2 yet. \tfrom pydantic.v1 import BaseModel\n",
      "\n",
      "  from ragas.metrics._context_entities_recall import (\n"
     ]
    }
   ],
   "source": [
    "import pandas as pd\n",
    "import tqdm\n",
    "import requests\n",
    "from datasets import Dataset\n",
    "import os\n",
    "import getpass\n",
    "\n",
    "from ragas.metrics import (\n",
    "    answer_relevancy,\n",
    "    faithfulness,\n",
    "    context_recall,\n",
    "    context_precision,\n",
    ")\n",
    "\n",
    "from ragas import evaluate"
   ]
  },
  {
   "cell_type": "code",
   "execution_count": 4,
   "id": "f59e501c",
   "metadata": {},
   "outputs": [],
   "source": [
    "os.environ[\"OPENAI_API_KEY\"] = \"\""
   ]
  },
  {
   "cell_type": "code",
   "execution_count": 5,
   "id": "513fd8a2c1767f2f",
   "metadata": {
    "ExecuteTime": {
     "end_time": "2024-09-11T12:32:34.106217Z",
     "start_time": "2024-09-11T12:32:34.103552Z"
    },
    "collapsed": false
   },
   "outputs": [
    {
     "ename": "FileNotFoundError",
     "evalue": "[Errno 2] No such file or directory: 'v2_ragas_npa_dataset_firstPart.xlsx'",
     "output_type": "error",
     "traceback": [
      "\u001b[0;31m---------------------------------------------------------------------------\u001b[0m",
      "\u001b[0;31mFileNotFoundError\u001b[0m                         Traceback (most recent call last)",
      "Cell \u001b[0;32mIn[5], line 6\u001b[0m\n\u001b[1;32m      3\u001b[0m \u001b[38;5;66;03m# clear ml credentials\u001b[39;00m\n\u001b[1;32m      4\u001b[0m dataset \u001b[38;5;241m=\u001b[39m \u001b[38;5;124m\"\u001b[39m\u001b[38;5;124mv2_ragas_npa_dataset_firstPart.xlsx\u001b[39m\u001b[38;5;124m\"\u001b[39m\n\u001b[0;32m----> 6\u001b[0m questions_df \u001b[38;5;241m=\u001b[39m pd\u001b[38;5;241m.\u001b[39mread_excel(\u001b[38;5;28;43mopen\u001b[39;49m\u001b[43m(\u001b[49m\u001b[43mdataset\u001b[49m\u001b[43m,\u001b[49m\u001b[43m \u001b[49m\u001b[38;5;124;43m\"\u001b[39;49m\u001b[38;5;124;43mrb\u001b[39;49m\u001b[38;5;124;43m\"\u001b[39;49m\u001b[43m)\u001b[49m)\n\u001b[1;32m      7\u001b[0m questions_df\u001b[38;5;241m.\u001b[39mdrop(index\u001b[38;5;241m=\u001b[39m[\u001b[38;5;241m0\u001b[39m], inplace\u001b[38;5;241m=\u001b[39m\u001b[38;5;28;01mTrue\u001b[39;00m)\n\u001b[1;32m      8\u001b[0m \u001b[38;5;66;03m# questions = questions_df[\"question\"].to_list()\u001b[39;00m\n",
      "File \u001b[0;32m~/.local/lib/python3.10/site-packages/IPython/core/interactiveshell.py:324\u001b[0m, in \u001b[0;36m_modified_open\u001b[0;34m(file, *args, **kwargs)\u001b[0m\n\u001b[1;32m    317\u001b[0m \u001b[38;5;28;01mif\u001b[39;00m file \u001b[38;5;129;01min\u001b[39;00m {\u001b[38;5;241m0\u001b[39m, \u001b[38;5;241m1\u001b[39m, \u001b[38;5;241m2\u001b[39m}:\n\u001b[1;32m    318\u001b[0m     \u001b[38;5;28;01mraise\u001b[39;00m \u001b[38;5;167;01mValueError\u001b[39;00m(\n\u001b[1;32m    319\u001b[0m         \u001b[38;5;124mf\u001b[39m\u001b[38;5;124m\"\u001b[39m\u001b[38;5;124mIPython won\u001b[39m\u001b[38;5;124m'\u001b[39m\u001b[38;5;124mt let you open fd=\u001b[39m\u001b[38;5;132;01m{\u001b[39;00mfile\u001b[38;5;132;01m}\u001b[39;00m\u001b[38;5;124m by default \u001b[39m\u001b[38;5;124m\"\u001b[39m\n\u001b[1;32m    320\u001b[0m         \u001b[38;5;124m\"\u001b[39m\u001b[38;5;124mas it is likely to crash IPython. If you know what you are doing, \u001b[39m\u001b[38;5;124m\"\u001b[39m\n\u001b[1;32m    321\u001b[0m         \u001b[38;5;124m\"\u001b[39m\u001b[38;5;124myou can use builtins\u001b[39m\u001b[38;5;124m'\u001b[39m\u001b[38;5;124m open.\u001b[39m\u001b[38;5;124m\"\u001b[39m\n\u001b[1;32m    322\u001b[0m     )\n\u001b[0;32m--> 324\u001b[0m \u001b[38;5;28;01mreturn\u001b[39;00m \u001b[43mio_open\u001b[49m\u001b[43m(\u001b[49m\u001b[43mfile\u001b[49m\u001b[43m,\u001b[49m\u001b[43m \u001b[49m\u001b[38;5;241;43m*\u001b[39;49m\u001b[43margs\u001b[49m\u001b[43m,\u001b[49m\u001b[43m \u001b[49m\u001b[38;5;241;43m*\u001b[39;49m\u001b[38;5;241;43m*\u001b[39;49m\u001b[43mkwargs\u001b[49m\u001b[43m)\u001b[49m\n",
      "\u001b[0;31mFileNotFoundError\u001b[0m: [Errno 2] No such file or directory: 'v2_ragas_npa_dataset_firstPart.xlsx'"
     ]
    }
   ],
   "source": [
    "import random\n",
    "\n",
    "# clear ml credentials\n",
    "dataset = \"v2_ragas_npa_dataset_firstPart.xlsx\"\n",
    "\n",
    "questions_df = pd.read_excel(open(dataset, \"rb\"))\n",
    "questions_df.drop(index=[0], inplace=True)\n",
    "# questions = questions_df[\"question\"].to_list()"
   ]
  },
  {
   "cell_type": "code",
   "execution_count": 26,
   "id": "afb3ac1bbff59e76",
   "metadata": {
    "ExecuteTime": {
     "end_time": "2024-09-11T12:45:24.369026Z",
     "start_time": "2024-09-11T12:45:24.364577Z"
    },
    "collapsed": false
   },
   "outputs": [],
   "source": [
    "def get_system_responses(questions):\n",
    "    \"\"\"\n",
    "    Send requests to the /ask endpoint and collect responses.\n",
    "    \"\"\"\n",
    "    for question in tqdm.tqdm(questions.head(100).itertuples()):\n",
    "        try:\n",
    "            response = requests.post(\"http://localhost:8000/rag/query\", json={\"query\": question[1]})\n",
    "            response.raise_for_status()\n",
    "            response_data = response.json()\n",
    "            print(response_data)\n",
    "            yield {\n",
    "                    \"question\": question[1],\n",
    "                    \"response\": response_data[\"answer\"],\n",
    "                    \"ground_truth\": question[3],\n",
    "                    \"context\": response_data[\"contexts\"], \n",
    "                }\n",
    "        except Exception as e:\n",
    "            print(f\"Error while sending query: {question[0]}, error message: {e}\")\n",
    "            continue"
   ]
  },
  {
   "cell_type": "code",
   "execution_count": null,
   "id": "cb97d3e6d629fac3",
   "metadata": {
    "ExecuteTime": {
     "end_time": "2024-09-11T12:56:50.518168Z",
     "start_time": "2024-09-11T12:45:30.715866Z"
    },
    "collapsed": false
   },
   "outputs": [],
   "source": [
    "system_responses = [items for items in get_system_responses(questions_df)]\n",
    "system_responses"
   ]
  },
  {
   "cell_type": "code",
   "execution_count": null,
   "id": "3a67e4c5e753622d",
   "metadata": {
    "ExecuteTime": {
     "end_time": "2024-09-11T13:00:30.894339Z",
     "start_time": "2024-09-11T13:00:30.886589Z"
    },
    "collapsed": false
   },
   "outputs": [],
   "source": [
    "data_samples = {\n",
    "    \"question\": [response[\"question\"] for response in system_responses],\n",
    "    \"answer\": [response[\"response\"] for response in system_responses],\n",
    "    \"contexts\": [response[\"context\"] if type(response[\"context\"]) == list else [response[\"context\"]] for response in system_responses],\n",
    "    \"ground_truth\": [response[\"ground_truth\"] for response in system_responses],\n",
    "}\n",
    "\n",
    "dataframe = pd.DataFrame().from_dict(data_samples)\n",
    "dataframe.drop(index=[1], inplace=True)\n",
    "\n",
    "dataset = Dataset.from_dict(dataframe)"
   ]
  },
  {
   "cell_type": "code",
   "execution_count": null,
   "id": "40cdf9d7",
   "metadata": {},
   "outputs": [],
   "source": [
    "dataframe"
   ]
  },
  {
   "cell_type": "code",
   "execution_count": null,
   "id": "d5310b9ebb5e48f3",
   "metadata": {
    "ExecuteTime": {
     "end_time": "2024-09-11T15:12:02.711153Z",
     "start_time": "2024-09-11T13:57:03.092481Z"
    },
    "collapsed": false
   },
   "outputs": [],
   "source": [
    "result = evaluate(\n",
    "    dataset,\n",
    "    metrics=[\n",
    "        context_precision,\n",
    "        faithfulness,\n",
    "        answer_relevancy,\n",
    "        context_recall,\n",
    "    ],\n",
    ")\n",
    "\n",
    "result"
   ]
  },
  {
   "cell_type": "code",
   "execution_count": 40,
   "id": "64d8756752d7324c",
   "metadata": {
    "ExecuteTime": {
     "end_time": "2024-09-06T09:30:37.439340Z",
     "start_time": "2024-09-06T09:30:37.435237Z"
    },
    "collapsed": false
   },
   "outputs": [],
   "source": [
    "# {'context_precision': 0.8770, 'faithfulness': 0.5064, 'answer_relevancy': 0.4106, 'context_recall': 0.9133}\n",
    "# {'context_precision': 1.0000, 'faithfulness': 0.7475, 'answer_relevancy': 0.7865, 'context_recall': 0.8148}"
   ]
  }
 ],
 "metadata": {
  "kernelspec": {
   "display_name": "Python 3",
   "language": "python",
   "name": "python3"
  },
  "language_info": {
   "codemirror_mode": {
    "name": "ipython",
    "version": 3
   },
   "file_extension": ".py",
   "mimetype": "text/x-python",
   "name": "python",
   "nbconvert_exporter": "python",
   "pygments_lexer": "ipython3",
   "version": "3.10.12"
  }
 },
 "nbformat": 4,
 "nbformat_minor": 5
}
