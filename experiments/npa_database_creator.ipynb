{
 "cells": [
  {
   "cell_type": "code",
   "execution_count": 1,
   "id": "0671261e-2194-4a50-adf2-649283727c69",
   "metadata": {
    "execution": {
     "iopub.execute_input": "2024-09-12T14:48:01.580421Z",
     "iopub.status.busy": "2024-09-12T14:48:01.579043Z",
     "iopub.status.idle": "2024-09-12T14:48:14.731167Z",
     "shell.execute_reply": "2024-09-12T14:48:14.730185Z",
     "shell.execute_reply.started": "2024-09-12T14:48:01.580372Z"
    },
    "tags": []
   },
   "outputs": [
    {
     "name": "stdout",
     "output_type": "stream",
     "text": [
      "Defaulting to user installation because normal site-packages is not writeable\n",
      "Requirement already satisfied: pymilvus in /home/jupyter/.local/lib/python3.10/site-packages (2.4.6)\n",
      "Requirement already satisfied: sentence-transformers in /home/jupyter/.local/lib/python3.10/site-packages (3.1.0)\n",
      "Requirement already satisfied: fsspec in /home/jupyter/.local/lib/python3.10/site-packages (2024.6.1)\n",
      "Collecting fsspec\n",
      "  Downloading fsspec-2024.9.0-py3-none-any.whl.metadata (11 kB)\n",
      "Requirement already satisfied: s3fs in /home/jupyter/.local/lib/python3.10/site-packages (2024.9.0)\n",
      "Collecting setuptools>69 (from pymilvus)\n",
      "  Downloading setuptools-74.1.2-py3-none-any.whl.metadata (6.7 kB)\n",
      "Requirement already satisfied: grpcio>=1.49.1 in /home/jupyter/.local/lib/python3.10/site-packages (from pymilvus) (1.66.1)\n",
      "Requirement already satisfied: protobuf>=3.20.0 in /home/jupyter/.local/lib/python3.10/site-packages (from pymilvus) (4.25.4)\n",
      "Requirement already satisfied: environs<=9.5.0 in /home/jupyter/.local/lib/python3.10/site-packages (from pymilvus) (9.5.0)\n",
      "Requirement already satisfied: ujson>=2.0.0 in /home/jupyter/.local/lib/python3.10/site-packages (from pymilvus) (5.10.0)\n",
      "Requirement already satisfied: pandas>=1.2.4 in /usr/local/lib/python3.10/dist-packages (from pymilvus) (1.5.3)\n",
      "Requirement already satisfied: milvus-lite<2.5.0,>=2.4.0 in /home/jupyter/.local/lib/python3.10/site-packages (from pymilvus) (2.4.10)\n",
      "Requirement already satisfied: transformers<5.0.0,>=4.38.0 in /home/jupyter/.local/lib/python3.10/site-packages (from sentence-transformers) (4.44.2)\n",
      "Requirement already satisfied: tqdm in /home/jupyter/.local/lib/python3.10/site-packages (from sentence-transformers) (4.66.5)\n",
      "Requirement already satisfied: torch>=1.11.0 in /usr/local/lib/python3.10/dist-packages (from sentence-transformers) (2.0.1+cu118)\n",
      "Requirement already satisfied: numpy<2.0.0 in /home/jupyter/.local/lib/python3.10/site-packages (from sentence-transformers) (1.26.4)\n",
      "Requirement already satisfied: scikit-learn in /usr/local/lib/python3.10/dist-packages (from sentence-transformers) (1.2.2)\n",
      "Requirement already satisfied: scipy in /usr/local/lib/python3.10/dist-packages (from sentence-transformers) (1.10.1)\n",
      "Requirement already satisfied: huggingface-hub>=0.19.3 in /home/jupyter/.local/lib/python3.10/site-packages (from sentence-transformers) (0.24.7)\n",
      "Requirement already satisfied: Pillow in /usr/local/lib/python3.10/dist-packages (from sentence-transformers) (9.4.0)\n",
      "Requirement already satisfied: aiobotocore<3.0.0,>=2.5.4 in /home/jupyter/.local/lib/python3.10/site-packages (from s3fs) (2.14.0)\n",
      "Requirement already satisfied: aiohttp!=4.0.0a0,!=4.0.0a1 in /home/jupyter/.local/lib/python3.10/site-packages (from s3fs) (3.10.5)\n",
      "Requirement already satisfied: botocore<1.35.8,>=1.35.0 in /home/jupyter/.local/lib/python3.10/site-packages (from aiobotocore<3.0.0,>=2.5.4->s3fs) (1.35.7)\n",
      "Requirement already satisfied: wrapt<2.0.0,>=1.10.10 in /usr/local/lib/python3.10/dist-packages (from aiobotocore<3.0.0,>=2.5.4->s3fs) (1.14.1)\n",
      "Requirement already satisfied: aioitertools<1.0.0,>=0.5.1 in /usr/local/lib/python3.10/dist-packages (from aiobotocore<3.0.0,>=2.5.4->s3fs) (0.11.0)\n",
      "Requirement already satisfied: aiohappyeyeballs>=2.3.0 in /home/jupyter/.local/lib/python3.10/site-packages (from aiohttp!=4.0.0a0,!=4.0.0a1->s3fs) (2.4.0)\n",
      "Requirement already satisfied: aiosignal>=1.1.2 in /usr/local/lib/python3.10/dist-packages (from aiohttp!=4.0.0a0,!=4.0.0a1->s3fs) (1.3.1)\n",
      "Requirement already satisfied: attrs>=17.3.0 in /usr/local/lib/python3.10/dist-packages (from aiohttp!=4.0.0a0,!=4.0.0a1->s3fs) (23.1.0)\n",
      "Requirement already satisfied: frozenlist>=1.1.1 in /usr/local/lib/python3.10/dist-packages (from aiohttp!=4.0.0a0,!=4.0.0a1->s3fs) (1.4.0)\n",
      "Requirement already satisfied: multidict<7.0,>=4.5 in /usr/local/lib/python3.10/dist-packages (from aiohttp!=4.0.0a0,!=4.0.0a1->s3fs) (6.0.4)\n",
      "Requirement already satisfied: yarl<2.0,>=1.0 in /usr/local/lib/python3.10/dist-packages (from aiohttp!=4.0.0a0,!=4.0.0a1->s3fs) (1.9.2)\n",
      "Requirement already satisfied: async-timeout<5.0,>=4.0 in /usr/local/lib/python3.10/dist-packages (from aiohttp!=4.0.0a0,!=4.0.0a1->s3fs) (4.0.2)\n",
      "Requirement already satisfied: marshmallow>=3.0.0 in /home/jupyter/.local/lib/python3.10/site-packages (from environs<=9.5.0->pymilvus) (3.22.0)\n",
      "Requirement already satisfied: python-dotenv in /home/jupyter/.local/lib/python3.10/site-packages (from environs<=9.5.0->pymilvus) (1.0.1)\n",
      "Requirement already satisfied: filelock in /usr/local/lib/python3.10/dist-packages (from huggingface-hub>=0.19.3->sentence-transformers) (3.12.2)\n",
      "Requirement already satisfied: packaging>=20.9 in /home/jupyter/.local/lib/python3.10/site-packages (from huggingface-hub>=0.19.3->sentence-transformers) (23.2)\n",
      "Requirement already satisfied: pyyaml>=5.1 in /usr/local/lib/python3.10/dist-packages (from huggingface-hub>=0.19.3->sentence-transformers) (6.0.1)\n",
      "Requirement already satisfied: requests in /home/jupyter/.local/lib/python3.10/site-packages (from huggingface-hub>=0.19.3->sentence-transformers) (2.32.3)\n",
      "Requirement already satisfied: typing-extensions>=3.7.4.3 in /home/jupyter/.local/lib/python3.10/site-packages (from huggingface-hub>=0.19.3->sentence-transformers) (4.12.2)\n",
      "Requirement already satisfied: python-dateutil>=2.8.1 in /usr/local/lib/python3.10/dist-packages (from pandas>=1.2.4->pymilvus) (2.8.2)\n",
      "Requirement already satisfied: pytz>=2020.1 in /usr/local/lib/python3.10/dist-packages (from pandas>=1.2.4->pymilvus) (2022.7.1)\n",
      "Requirement already satisfied: sympy in /usr/local/lib/python3.10/dist-packages (from torch>=1.11.0->sentence-transformers) (1.11.1)\n",
      "Requirement already satisfied: networkx in /usr/local/lib/python3.10/dist-packages (from torch>=1.11.0->sentence-transformers) (3.1)\n",
      "Requirement already satisfied: jinja2 in /usr/local/lib/python3.10/dist-packages (from torch>=1.11.0->sentence-transformers) (3.1.2)\n",
      "Requirement already satisfied: triton==2.0.0 in /usr/local/lib/python3.10/dist-packages (from torch>=1.11.0->sentence-transformers) (2.0.0)\n",
      "Requirement already satisfied: cmake in /usr/local/lib/python3.10/dist-packages (from triton==2.0.0->torch>=1.11.0->sentence-transformers) (3.25.2)\n",
      "Requirement already satisfied: lit in /usr/local/lib/python3.10/dist-packages (from triton==2.0.0->torch>=1.11.0->sentence-transformers) (16.0.6)\n",
      "Requirement already satisfied: regex!=2019.12.17 in /usr/local/lib/python3.10/dist-packages (from transformers<5.0.0,>=4.38.0->sentence-transformers) (2022.10.31)\n",
      "Requirement already satisfied: safetensors>=0.4.1 in /home/jupyter/.local/lib/python3.10/site-packages (from transformers<5.0.0,>=4.38.0->sentence-transformers) (0.4.5)\n",
      "Requirement already satisfied: tokenizers<0.20,>=0.19 in /home/jupyter/.local/lib/python3.10/site-packages (from transformers<5.0.0,>=4.38.0->sentence-transformers) (0.19.1)\n",
      "Requirement already satisfied: joblib>=1.1.1 in /usr/local/lib/python3.10/dist-packages (from scikit-learn->sentence-transformers) (1.3.1)\n",
      "Requirement already satisfied: threadpoolctl>=2.0.0 in /usr/local/lib/python3.10/dist-packages (from scikit-learn->sentence-transformers) (3.2.0)\n",
      "Requirement already satisfied: jmespath<2.0.0,>=0.7.1 in /usr/local/lib/python3.10/dist-packages (from botocore<1.35.8,>=1.35.0->aiobotocore<3.0.0,>=2.5.4->s3fs) (0.10.0)\n",
      "Requirement already satisfied: urllib3!=2.2.0,<3,>=1.25.4 in /home/jupyter/.local/lib/python3.10/site-packages (from botocore<1.35.8,>=1.35.0->aiobotocore<3.0.0,>=2.5.4->s3fs) (2.2.2)\n",
      "Requirement already satisfied: six>=1.5 in /usr/lib/python3/dist-packages (from python-dateutil>=2.8.1->pandas>=1.2.4->pymilvus) (1.16.0)\n",
      "Requirement already satisfied: idna>=2.0 in /usr/local/lib/python3.10/dist-packages (from yarl<2.0,>=1.0->aiohttp!=4.0.0a0,!=4.0.0a1->s3fs) (3.4)\n",
      "Requirement already satisfied: MarkupSafe>=2.0 in /usr/local/lib/python3.10/dist-packages (from jinja2->torch>=1.11.0->sentence-transformers) (2.1.3)\n",
      "Requirement already satisfied: charset-normalizer<4,>=2 in /usr/local/lib/python3.10/dist-packages (from requests->huggingface-hub>=0.19.3->sentence-transformers) (2.0.12)\n",
      "Requirement already satisfied: certifi>=2017.4.17 in /usr/local/lib/python3.10/dist-packages (from requests->huggingface-hub>=0.19.3->sentence-transformers) (2023.7.22)\n",
      "Requirement already satisfied: mpmath>=0.19 in /usr/local/lib/python3.10/dist-packages (from sympy->torch>=1.11.0->sentence-transformers) (1.3.0)\n",
      "Downloading fsspec-2024.9.0-py3-none-any.whl (179 kB)\n",
      "Downloading setuptools-74.1.2-py3-none-any.whl (1.3 MB)\n",
      "\u001b[2K   \u001b[90m━━━━━━━━━━━━━━━━━━━━━━━━━━━━━━━━━━━━━━━━\u001b[0m \u001b[32m1.3/1.3 MB\u001b[0m \u001b[31m8.3 MB/s\u001b[0m eta \u001b[36m0:00:00\u001b[0m\n",
      "\u001b[?25hInstalling collected packages: setuptools, fsspec\n",
      "  Attempting uninstall: fsspec\n",
      "    Found existing installation: fsspec 2024.6.1\n",
      "    Uninstalling fsspec-2024.6.1:\n",
      "      Successfully uninstalled fsspec-2024.6.1\n",
      "\u001b[31mERROR: pip's dependency resolver does not currently take into account all the packages that are installed. This behaviour is the source of the following dependency conflicts.\n",
      "datasets 2.21.0 requires fsspec[http]<=2024.6.1,>=2023.1.0, but you have fsspec 2024.9.0 which is incompatible.\n",
      "cloud-ml 0.0.1 requires requests<=2.28.1,>=2.22.0, but you have requests 2.32.3 which is incompatible.\n",
      "cloud-ml 0.0.1 requires s3fs<=0.5.2,>=0.4.1, but you have s3fs 2024.9.0 which is incompatible.\n",
      "gcsfs 2023.6.0 requires fsspec==2023.6.0, but you have fsspec 2024.9.0 which is incompatible.\n",
      "numba 0.56.4 requires numpy<1.24,>=1.18, but you have numpy 1.26.4 which is incompatible.\n",
      "pandas-gbq 0.17.9 requires pyarrow<10.0dev,>=3.0.0, but you have pyarrow 17.0.0 which is incompatible.\n",
      "spacy 3.5.4 requires pydantic!=1.8,!=1.8.1,<1.11.0,>=1.7.4, but you have pydantic 2.6.0 which is incompatible.\n",
      "tensorflow 2.12.0 requires numpy<1.24,>=1.22, but you have numpy 1.26.4 which is incompatible.\n",
      "thinc 8.1.10 requires pydantic!=1.8,!=1.8.1,<1.11.0,>=1.7.4, but you have pydantic 2.6.0 which is incompatible.\u001b[0m\u001b[31m\n",
      "\u001b[0mSuccessfully installed fsspec-2024.9.0 setuptools-74.1.2\n",
      "\n",
      "\u001b[1m[\u001b[0m\u001b[34;49mnotice\u001b[0m\u001b[1;39;49m]\u001b[0m\u001b[39;49m A new release of pip is available: \u001b[0m\u001b[31;49m23.0.1\u001b[0m\u001b[39;49m -> \u001b[0m\u001b[32;49m24.2\u001b[0m\n",
      "\u001b[1m[\u001b[0m\u001b[34;49mnotice\u001b[0m\u001b[1;39;49m]\u001b[0m\u001b[39;49m To update, run: \u001b[0m\u001b[32;49mpython3 -m pip install --upgrade pip\u001b[0m\n",
      "Defaulting to user installation because normal site-packages is not writeable\n",
      "Requirement already satisfied: huggingface-hub in /home/jupyter/.local/lib/python3.10/site-packages (0.24.7)\n",
      "Requirement already satisfied: filelock in /usr/local/lib/python3.10/dist-packages (from huggingface-hub) (3.12.2)\n",
      "Requirement already satisfied: fsspec>=2023.5.0 in /home/jupyter/.local/lib/python3.10/site-packages (from huggingface-hub) (2024.9.0)\n",
      "Requirement already satisfied: packaging>=20.9 in /home/jupyter/.local/lib/python3.10/site-packages (from huggingface-hub) (23.2)\n",
      "Requirement already satisfied: pyyaml>=5.1 in /usr/local/lib/python3.10/dist-packages (from huggingface-hub) (6.0.1)\n",
      "Requirement already satisfied: requests in /home/jupyter/.local/lib/python3.10/site-packages (from huggingface-hub) (2.32.3)\n",
      "Requirement already satisfied: tqdm>=4.42.1 in /home/jupyter/.local/lib/python3.10/site-packages (from huggingface-hub) (4.66.5)\n",
      "Requirement already satisfied: typing-extensions>=3.7.4.3 in /home/jupyter/.local/lib/python3.10/site-packages (from huggingface-hub) (4.12.2)\n",
      "Requirement already satisfied: charset-normalizer<4,>=2 in /usr/local/lib/python3.10/dist-packages (from requests->huggingface-hub) (2.0.12)\n",
      "Requirement already satisfied: idna<4,>=2.5 in /usr/local/lib/python3.10/dist-packages (from requests->huggingface-hub) (3.4)\n",
      "Requirement already satisfied: urllib3<3,>=1.21.1 in /home/jupyter/.local/lib/python3.10/site-packages (from requests->huggingface-hub) (2.2.2)\n",
      "Requirement already satisfied: certifi>=2017.4.17 in /usr/local/lib/python3.10/dist-packages (from requests->huggingface-hub) (2023.7.22)\n",
      "\n",
      "\u001b[1m[\u001b[0m\u001b[34;49mnotice\u001b[0m\u001b[1;39;49m]\u001b[0m\u001b[39;49m A new release of pip is available: \u001b[0m\u001b[31;49m23.0.1\u001b[0m\u001b[39;49m -> \u001b[0m\u001b[32;49m24.2\u001b[0m\n",
      "\u001b[1m[\u001b[0m\u001b[34;49mnotice\u001b[0m\u001b[1;39;49m]\u001b[0m\u001b[39;49m To update, run: \u001b[0m\u001b[32;49mpython3 -m pip install --upgrade pip\u001b[0m\n"
     ]
    }
   ],
   "source": [
    "%pip install -U pymilvus sentence-transformers fsspec s3fs\n",
    "%pip install --upgrade huggingface-hub"
   ]
  },
  {
   "cell_type": "code",
   "execution_count": 2,
   "id": "73105a03-563a-4307-af50-62dc15f62564",
   "metadata": {
    "execution": {
     "iopub.execute_input": "2024-09-12T14:48:14.733697Z",
     "iopub.status.busy": "2024-09-12T14:48:14.733103Z",
     "iopub.status.idle": "2024-09-12T14:48:23.777410Z",
     "shell.execute_reply": "2024-09-12T14:48:23.776424Z",
     "shell.execute_reply.started": "2024-09-12T14:48:14.733653Z"
    },
    "tags": []
   },
   "outputs": [
    {
     "name": "stdout",
     "output_type": "stream",
     "text": [
      "Is CUDA available: True\n",
      "CUDA device: Tesla T4\n"
     ]
    }
   ],
   "source": [
    "import torch\n",
    "\n",
    "print(f\"Is CUDA available: {torch.cuda.is_available()}\")\n",
    "print(f\"CUDA device: {torch.cuda.get_device_name(torch.cuda.current_device())}\")"
   ]
  },
  {
   "cell_type": "code",
   "execution_count": 3,
   "id": "25e637db-b002-4413-bead-1bfce3bba16e",
   "metadata": {
    "execution": {
     "iopub.execute_input": "2024-09-12T14:48:23.782008Z",
     "iopub.status.busy": "2024-09-12T14:48:23.780712Z",
     "iopub.status.idle": "2024-09-12T14:48:23.794711Z",
     "shell.execute_reply": "2024-09-12T14:48:23.793913Z",
     "shell.execute_reply.started": "2024-09-12T14:48:23.781965Z"
    },
    "tags": []
   },
   "outputs": [],
   "source": [
    "filename = \"npa_dataset_v4.db\"  # change dataset version when new iteration begins!\n",
    "database_path = f\"/home/jupyter/datasphere/s3/hack-object-storage/database/{filename}\"\n",
    "dataset_path = (\n",
    "    \"/home/jupyter/datasphere/project/preprocessed_dataset_ver_4.txt\"\n",
    ")"
   ]
  },
  {
   "cell_type": "code",
   "execution_count": 4,
   "id": "277728af-ddad-45b0-8772-812aabe47a1d",
   "metadata": {
    "execution": {
     "iopub.execute_input": "2024-09-12T14:48:23.797595Z",
     "iopub.status.busy": "2024-09-12T14:48:23.796725Z",
     "iopub.status.idle": "2024-09-12T14:48:24.362735Z",
     "shell.execute_reply": "2024-09-12T14:48:24.361915Z",
     "shell.execute_reply.started": "2024-09-12T14:48:23.797556Z"
    },
    "tags": []
   },
   "outputs": [
    {
     "data": {
      "text/plain": [
       "['постановление губернатора ханты-мансийского автономного округа-югры от 28.12.2017 № 139. о внесении изменений в приложение к постановлению губернатора ханты-мансийского автономного округа – югры от 30 декабря 2012 года n 176 \"об инструкции по делопроизводству в государственных органах ханты-мансийского автономного округа - югры и исполнительных органах государственной власти ханты-мансийского автономного округа - югры\" губернатор ханты-мансийского автономного округа - югры постановление от 28 декабря 2017 г. n 139 о внесении изменений в приложение к постановлению губернатора ханты-мансийского автономного округа – югры от 30 декабря 2012 года n 176 \"об инструкции по делопроизводству в государственных органах ханты-мансийского автономного округа - югры и исполнительных органах государственной власти ханты-мансийского автономного округа - югры\" руководствуясь законами ханты-мансийского автономного округа - югры от 19 ноября 2001 года n 75-оз \"о губернаторе ханты-мансийского автономного округа - югры\", от 25',\n",
       " 'автономного округа - югры от 19 ноября 2001 года n 75-оз \"о губернаторе ханты-мансийского автономного округа - югры\", от 25 февраля 2003 года n 14-оз \"о нормативных правовых актах ханты-мансийского автономного округа - югры\", постановляю: 1. внести в приложение к постановлению губернатора ханты-мансийского автономного округа - югры от 30 декабря 2012 года n 176 \"об инструкции по делопроизводству в государственных органах ханты-мансийского автономного округа - югры и исполнительных органах государственной власти ханты-мансийского автономного округа - югры\" следующие изменения: 1.1. в разделе i: 1.1.1. в пункте 1.1 слова \"государственным стандартом гост р 6.30-2003 \"унифицированные системы документации. унифицированная система организационно-распорядительной документации. требования к оформлению документов\" (далее - гост р 6.30-2003)\" заменить словами \"национальным стандартом российской федерации гост р 7.0.97-2016 \"система стандартов по информации, библиотечному и издательскому делу.',\n",
       " 'стандартом российской федерации гост р 7.0.97-2016 \"система стандартов по информации, библиотечному и издательскому делу. организационно-распорядительная документация. требования к оформлению документов\" (далее - гост р 7.0.97-2016).\". 1.1.2. в пункте 1.8 слова \"гост р 6.30-2003\" заменить словами \"гост р 7.0.97-2016\". 1.2. в разделе iii: 1.2.1. в пункте 3.7 слова \"гост р 6.30-2003\" заменить словами \"гост р 7.0.97-2016\". 1.2.2. в пункте 3.15 после слов \"верхнего поля страницы\" дополнить словами \"на расстоянии не менее 10 мм от верхнего края листа\". 1.2.3. подпункт 3.16 изложить в следующей редакции: \"3.16. адресат. строки реквизита \"адресат\" выравниваются относительно края правого поля документа. 3.16.1. при адресовании письма в организацию указывается ее полное или сокращенное наименование в именительном падеже, например: министерство регионального развития российской федерации 3.16.2. при адресовании документа руководителю (заместителю руководителя) организации наименование его должности, включающее',\n",
       " '3.16.2. при адресовании документа руководителю (заместителю руководителя) организации наименование его должности, включающее наименование организации, инициалы и фамилию должностного лица, указываются в дательном падеже, например: руководителю федерального архивного агентства и.о. фамилия 3.16.3. при адресовании документа в структурное подразделение организации наименование организации указывается в именительном падеже, ниже - наименование структурного подразделения, например: министерство образования и науки российской федерации департамент управления делами 3.16.4. при адресовании письма конкретному должностному лицу наименование организации указывается в именительном падеже, наименование должности, включающее наименование структурного подразделения, инициалы и фамилию, - в дательном падеже, например: министерство образования и науки российской федерации директору департамента управления делами и.о. фамилия 3.16.5. при рассылке документа группе организаций одного типа или в структурные подразделения одной',\n",
       " 'делами и.о. фамилия 3.16.5. при рассылке документа группе организаций одного типа или в структурные подразделения одной организации адресат указывается обобщенно, например: руководителям исполнительных органов государственной власти ханты-мансийского автономного округа - югры 3.16.6. при рассылке документа выборочно группе организаций одного типа или структурных подразделений под реквизитом \"адресат\" в скобках указывается: \"(по списку)\", например: руководителям исполнительных органов государственной власти ханты-мансийского автономного округа - югры (по списку) 3.16.7. в одном документе не должно быть более четырех адресатов. слово \"копия\" перед вторым, третьим, четвертым адресатами не указывается. при большом количестве адресатов исполнителем документа составляется указатель рассылки документа. 3.16.8. в состав реквизита \"адресат\" может входить почтовый адрес. реквизиты адреса пишутся в следующем порядке: название улицы, номер дома, номер квартиры; название населенного пункта (города, поселка и т.п.);']"
      ]
     },
     "execution_count": 4,
     "metadata": {},
     "output_type": "execute_result"
    }
   ],
   "source": [
    "with open(dataset_path, encoding=\"utf-8\") as file:\n",
    "    dataset_text = file.read()\n",
    "\n",
    "data_raw = dataset_text.split(\"</s>\\n\")\n",
    "data_raw[:5]"
   ]
  },
  {
   "cell_type": "code",
   "execution_count": 5,
   "id": "15aa6e42-6e09-47ad-9152-55bd2d3ebf37",
   "metadata": {
    "execution": {
     "iopub.execute_input": "2024-09-12T14:48:24.364532Z",
     "iopub.status.busy": "2024-09-12T14:48:24.363898Z",
     "iopub.status.idle": "2024-09-12T14:48:24.379121Z",
     "shell.execute_reply": "2024-09-12T14:48:24.378047Z",
     "shell.execute_reply.started": "2024-09-12T14:48:24.364494Z"
    }
   },
   "outputs": [],
   "source": [
    "# from sentence_transformers import SentenceTransformer\n",
    "# from transformers import AutoModel\n",
    "\n",
    "# embedding_dim = 1024\n",
    "\n",
    "# model_sentence = SentenceTransformer(\"deepvk/USER-bge-m3\")\n",
    "# model_sentence = model_sentence.to(\"cuda\")"
   ]
  },
  {
   "cell_type": "code",
   "execution_count": 6,
   "id": "e7c255c2-3c17-4577-8c4e-e16aaadac99f",
   "metadata": {
    "execution": {
     "iopub.execute_input": "2024-09-12T14:48:24.381938Z",
     "iopub.status.busy": "2024-09-12T14:48:24.380495Z",
     "iopub.status.idle": "2024-09-12T14:48:24.406627Z",
     "shell.execute_reply": "2024-09-12T14:48:24.405519Z",
     "shell.execute_reply.started": "2024-09-12T14:48:24.381871Z"
    },
    "tags": []
   },
   "outputs": [],
   "source": [
    "# print(\"==== Embeddings generation in progress... ====\")\n",
    "# embeddings = model_sentence.encode(data_raw, normalize_embeddings=True, batch_size=16)\n",
    "# print(\"Done.\")"
   ]
  },
  {
   "cell_type": "code",
   "execution_count": 7,
   "id": "5663a756-628a-4073-941a-cb3b8593040b",
   "metadata": {
    "execution": {
     "iopub.execute_input": "2024-09-12T14:48:24.409856Z",
     "iopub.status.busy": "2024-09-12T14:48:24.408261Z",
     "iopub.status.idle": "2024-09-12T14:48:26.202349Z",
     "shell.execute_reply": "2024-09-12T14:48:26.201495Z",
     "shell.execute_reply.started": "2024-09-12T14:48:24.409813Z"
    }
   },
   "outputs": [],
   "source": [
    "from langchain.docstore.document import Document\n",
    "\n",
    "documents = []\n",
    "for texts in data_raw:\n",
    "    doc = Document(page_content=texts, metadata={\"source\": dataset_path, \"database_path\": database_path})\n",
    "    documents.append(doc)"
   ]
  },
  {
   "cell_type": "code",
   "execution_count": 8,
   "id": "23e7d3e8-fa0a-4be3-9dbf-913952c41586",
   "metadata": {
    "execution": {
     "iopub.execute_input": "2024-09-12T14:48:26.204102Z",
     "iopub.status.busy": "2024-09-12T14:48:26.203535Z",
     "iopub.status.idle": "2024-09-12T16:16:21.595548Z",
     "shell.execute_reply": "2024-09-12T16:16:21.594454Z",
     "shell.execute_reply.started": "2024-09-12T14:48:26.204063Z"
    },
    "tags": []
   },
   "outputs": [
    {
     "name": "stderr",
     "output_type": "stream",
     "text": [
      "USER_AGENT environment variable not set, consider setting it to identify your requests.\n",
      "/home/jupyter/.local/lib/python3.10/site-packages/transformers/utils/hub.py:127: FutureWarning: Using `TRANSFORMERS_CACHE` is deprecated and will be removed in v5 of Transformers. Use `HF_HOME` instead.\n",
      "  warnings.warn(\n",
      "2024-09-12 14:48:41.700387: I tensorflow/core/util/port.cc:110] oneDNN custom operations are on. You may see slightly different numerical results due to floating-point round-off errors from different computation orders. To turn them off, set the environment variable `TF_ENABLE_ONEDNN_OPTS=0`.\n",
      "2024-09-12 14:48:43.371883: I tensorflow/core/platform/cpu_feature_guard.cc:182] This TensorFlow binary is optimized to use available CPU instructions in performance-critical operations.\n",
      "To enable the following instructions: AVX2 AVX512F AVX512_VNNI FMA, in other operations, rebuild TensorFlow with the appropriate compiler flags.\n",
      "2024-09-12 14:48:47.443882: W tensorflow/compiler/tf2tensorrt/utils/py_utils.cc:38] TF-TRT Warning: Could not find TensorRT\n"
     ]
    }
   ],
   "source": [
    "from langchain.text_splitter import RecursiveCharacterTextSplitter\n",
    "from langchain_community.document_loaders import WebBaseLoader\n",
    "from langchain_milvus import Milvus\n",
    "from langchain_huggingface import HuggingFaceEmbeddings\n",
    "from transformers import AutoModel\n",
    "\n",
    "model = AutoModel.from_pretrained(\"deepvk/USER-bge-m3\", trust_remote_code=True) \n",
    "\n",
    "model_name = \"deepvk/USER-bge-m3\"\n",
    "model_kwargs = {'device': 'cuda'}\n",
    "embeddings = HuggingFaceEmbeddings(\n",
    "    model_name=model_name,\n",
    "    model_kwargs=model_kwargs,\n",
    ")\n",
    "\n",
    "# Retriever\n",
    "# API Here: https://python.langchain.com/v0.2/api_reference/milvus/vectorstores/langchain_milvus.vectorstores.milvus.Milvus.html\n",
    "vectorstore = Milvus.from_documents(\n",
    "    documents = documents,\n",
    "    collection_name = \"npa_storage_1024_128\", \n",
    "    connection_args={\"uri\": database_path},\n",
    "    embedding = embeddings\n",
    ")\n",
    "\n",
    "# retriever = vectorstore.as_retriever()"
   ]
  },
  {
   "cell_type": "code",
   "execution_count": 9,
   "id": "687a9a92-1114-4098-8b7b-142f8bac779e",
   "metadata": {
    "execution": {
     "iopub.execute_input": "2024-09-12T16:16:21.598287Z",
     "iopub.status.busy": "2024-09-12T16:16:21.596959Z",
     "iopub.status.idle": "2024-09-12T16:16:21.615985Z",
     "shell.execute_reply": "2024-09-12T16:16:21.615019Z",
     "shell.execute_reply.started": "2024-09-12T16:16:21.598246Z"
    },
    "tags": []
   },
   "outputs": [],
   "source": [
    "# if client.has_collection(collection_name=collection_name):\n",
    "#     client.drop_collection(collection_name=collection_name)\n",
    "\n",
    "# client.create_collection(\n",
    "#     collection_name=collection_name,\n",
    "#     dimension=embedding_dim,\n",
    "# )"
   ]
  },
  {
   "cell_type": "code",
   "execution_count": 10,
   "id": "d9bfb70b-93d3-46c0-add0-c55b2e2c8259",
   "metadata": {
    "execution": {
     "iopub.execute_input": "2024-09-12T16:16:21.620123Z",
     "iopub.status.busy": "2024-09-12T16:16:21.619303Z",
     "iopub.status.idle": "2024-09-12T16:16:21.657741Z",
     "shell.execute_reply": "2024-09-12T16:16:21.656871Z",
     "shell.execute_reply.started": "2024-09-12T16:16:21.620070Z"
    },
    "tags": []
   },
   "outputs": [],
   "source": [
    "# data = [\n",
    "#     {\"id\": i, \"vector\": embeddings[i], \"text\": data_raw[i], \"dataset\": dataset_path}\n",
    "#     for i in range(len(embeddings))\n",
    "# ]\n",
    "# # print(\"Data has\", len(data), \"entities, each with fields: \", data[0].keys())\n",
    "# # print(\"Vector dim:\", len(data[0][\"vector\"]))\n",
    "# data[:2]"
   ]
  },
  {
   "cell_type": "code",
   "execution_count": 11,
   "id": "076cf335-f7ce-46c4-ac98-9f1b179e5ebc",
   "metadata": {
    "execution": {
     "iopub.execute_input": "2024-09-12T16:16:21.660288Z",
     "iopub.status.busy": "2024-09-12T16:16:21.658937Z",
     "iopub.status.idle": "2024-09-12T16:16:21.674953Z",
     "shell.execute_reply": "2024-09-12T16:16:21.674153Z",
     "shell.execute_reply.started": "2024-09-12T16:16:21.660241Z"
    },
    "tags": []
   },
   "outputs": [],
   "source": [
    "# batch_size = 100\n",
    "\n",
    "# # Batch the data and insert\n",
    "# for i in range(0, len(data), batch_size):\n",
    "#     batch_data = data[i:i+batch_size]\n",
    "    \n",
    "#     res = client.insert(collection_name=collection_name, data=batch_data)\n",
    "\n",
    "# print(res)"
   ]
  },
  {
   "cell_type": "code",
   "execution_count": null,
   "id": "eeb4df3c-9976-4f93-b191-8820d36a0b05",
   "metadata": {},
   "outputs": [],
   "source": []
  }
 ],
 "metadata": {
  "kernelspec": {
   "display_name": "DataSphere Kernel",
   "language": "python",
   "name": "python3"
  },
  "language_info": {
   "codemirror_mode": {
    "name": "ipython",
    "version": 3
   },
   "file_extension": ".py",
   "mimetype": "text/x-python",
   "name": "python",
   "nbconvert_exporter": "python",
   "pygments_lexer": "ipython3",
   "version": "3.10.12"
  }
 },
 "nbformat": 4,
 "nbformat_minor": 5
}
