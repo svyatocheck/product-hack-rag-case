{
 "cells": [
  {
   "cell_type": "code",
   "execution_count": 1,
   "id": "33fc4b58-d955-4453-8053-41e4183a186c",
   "metadata": {
    "execution": {
     "iopub.execute_input": "2024-09-12T17:30:15.910691Z",
     "iopub.status.busy": "2024-09-12T17:30:15.909495Z",
     "iopub.status.idle": "2024-09-12T17:30:15.922790Z",
     "shell.execute_reply": "2024-09-12T17:30:15.921917Z",
     "shell.execute_reply.started": "2024-09-12T17:30:15.910645Z"
    },
    "tags": []
   },
   "outputs": [],
   "source": [
    "import pandas as pd"
   ]
  },
  {
   "cell_type": "code",
   "execution_count": 2,
   "id": "fc71c9a8-1042-456d-b0f6-934d9273bfde",
   "metadata": {
    "execution": {
     "iopub.execute_input": "2024-09-12T17:30:16.912397Z",
     "iopub.status.busy": "2024-09-12T17:30:16.911238Z",
     "iopub.status.idle": "2024-09-12T17:30:17.174635Z",
     "shell.execute_reply": "2024-09-12T17:30:17.173590Z",
     "shell.execute_reply.started": "2024-09-12T17:30:16.912346Z"
    },
    "tags": []
   },
   "outputs": [],
   "source": [
    "# Загрузка исходного XLSX файла\n",
    "input_file = '/home/jupyter/datasphere/project/v2_ragas_npa_dataset_firstPart.xlsx'  # Укажите путь к вашему файлу\n",
    "df = pd.read_excel(input_file)"
   ]
  },
  {
   "cell_type": "code",
   "execution_count": 3,
   "id": "53f47266-277e-4fab-beaf-8630aba9ce26",
   "metadata": {
    "execution": {
     "iopub.execute_input": "2024-09-12T17:30:17.640090Z",
     "iopub.status.busy": "2024-09-12T17:30:17.638819Z",
     "iopub.status.idle": "2024-09-12T17:30:17.662748Z",
     "shell.execute_reply": "2024-09-12T17:30:17.661894Z",
     "shell.execute_reply.started": "2024-09-12T17:30:17.640043Z"
    },
    "tags": []
   },
   "outputs": [
    {
     "data": {
      "text/plain": [
       "0      Каков объем экспорта услуг категории \"Поездки\"...\n",
       "1      Каковы были основные мероприятия, реализуемые ...\n",
       "2      Каков размер финансирования из федерального бю...\n",
       "3      Какой комплексный центр социального обслуживан...\n",
       "4      Какое значение имеет экологическое образование...\n",
       "                             ...                        \n",
       "495                Что входит в расходы госорганов Югры?\n",
       "496    Как изменился объем переработки газа в 2009 году?\n",
       "497    Что дает программа \"Развитие материально-техни...\n",
       "498            Какую долю занимают средства Нефтеюганск?\n",
       "499    Субвенции ХМАО-Югры: как распределяются и что ...\n",
       "Name: question, Length: 500, dtype: object"
      ]
     },
     "execution_count": 3,
     "metadata": {},
     "output_type": "execute_result"
    }
   ],
   "source": [
    "df['question']"
   ]
  },
  {
   "cell_type": "code",
   "execution_count": 4,
   "id": "4e9f0277-2308-404e-8984-0aa44385958b",
   "metadata": {
    "execution": {
     "iopub.execute_input": "2024-09-12T17:30:18.810978Z",
     "iopub.status.busy": "2024-09-12T17:30:18.809850Z",
     "iopub.status.idle": "2024-09-12T17:30:18.841868Z",
     "shell.execute_reply": "2024-09-12T17:30:18.841031Z",
     "shell.execute_reply.started": "2024-09-12T17:30:18.810934Z"
    },
    "tags": []
   },
   "outputs": [],
   "source": [
    "pattern = r\"^\\['(.*)'\\]$\"\n",
    "\n",
    "df['contexts'] = df['contexts'].str.replace(pattern, r'\\1', regex=True)\n"
   ]
  },
  {
   "cell_type": "code",
   "execution_count": 5,
   "id": "106d961c-e5b0-432b-bcda-bb92fb595473",
   "metadata": {
    "execution": {
     "iopub.execute_input": "2024-09-12T17:30:19.770026Z",
     "iopub.status.busy": "2024-09-12T17:30:19.768480Z",
     "iopub.status.idle": "2024-09-12T17:30:19.782278Z",
     "shell.execute_reply": "2024-09-12T17:30:19.781548Z",
     "shell.execute_reply.started": "2024-09-12T17:30:19.769958Z"
    },
    "tags": []
   },
   "outputs": [
    {
     "data": {
      "text/plain": [
       "0    Увеличение объема экспорта услуг категории \"По...\n",
       "1    и | |развития | | |Ханты-Мансийского |исполнит...\n",
       "2    не относящиеся к районам Крайнего Севера и при...\n",
       "3    |2.2. |Центр социальной |240 к/мест |7580,0 |2...\n",
       "4    (полного)общего образования и начального профе...\n",
       "Name: contexts, dtype: object"
      ]
     },
     "execution_count": 5,
     "metadata": {},
     "output_type": "execute_result"
    }
   ],
   "source": [
    "df['contexts'].head()"
   ]
  },
  {
   "cell_type": "code",
   "execution_count": 6,
   "id": "ac100ac2-e526-444f-800b-0fd9b1f302f1",
   "metadata": {
    "execution": {
     "iopub.execute_input": "2024-09-12T17:30:21.636472Z",
     "iopub.status.busy": "2024-09-12T17:30:21.635594Z",
     "iopub.status.idle": "2024-09-12T17:30:21.652098Z",
     "shell.execute_reply": "2024-09-12T17:30:21.651234Z",
     "shell.execute_reply.started": "2024-09-12T17:30:21.636422Z"
    }
   },
   "outputs": [],
   "source": [
    "answer = 'Оценка релевантности: набор фрагментов документов релевантен, так как в них содержатся ключевые слова и семантические значения, связанные с вопросом пользователя о реформах, связанных с ветеранами труда.\\n\\n**Ключевые слова:** ветераны труда, ветераны Великой Отечественной войны, ветераны боевых действий, труженики тыла, меры социальной поддержки, присвоение звания «ветеран труда», льготы, субсидии, законы «О ветеранах», «О мерах социальной поддержки отдельных категорий граждан».\\n\\nВ представленных фрагментах документов описывается законодательство и меры поддержки ветеранов труда и других категорий граждан, а также изменения и дополнения к этим законам. Это указывает на наличие информации о возможных реформах в этой области. Однако конкретные сведения о введении новых реформ или изменениях в законодательстве требуют более детального анализа и выделения конкретных цитат из фрагментов.'"
   ]
  },
  {
   "cell_type": "code",
   "execution_count": 7,
   "id": "078361f2-9fc6-4aa9-8896-e634c6e09081",
   "metadata": {
    "execution": {
     "iopub.execute_input": "2024-09-12T17:30:24.412625Z",
     "iopub.status.busy": "2024-09-12T17:30:24.411390Z",
     "iopub.status.idle": "2024-09-12T17:30:27.432634Z",
     "shell.execute_reply": "2024-09-12T17:30:27.431621Z",
     "shell.execute_reply.started": "2024-09-12T17:30:24.412578Z"
    },
    "tags": []
   },
   "outputs": [
    {
     "name": "stdout",
     "output_type": "stream",
     "text": [
      "Defaulting to user installation because normal site-packages is not writeable\n",
      "Requirement already satisfied: ragas in /home/jupyter/.local/lib/python3.10/site-packages (0.1.18)\n",
      "Requirement already satisfied: numpy in /home/jupyter/.local/lib/python3.10/site-packages (from ragas) (1.26.4)\n",
      "Requirement already satisfied: datasets in /home/jupyter/.local/lib/python3.10/site-packages (from ragas) (2.21.0)\n",
      "Requirement already satisfied: tiktoken in /home/jupyter/.local/lib/python3.10/site-packages (from ragas) (0.7.0)\n",
      "Requirement already satisfied: langchain in /home/jupyter/.local/lib/python3.10/site-packages (from ragas) (0.2.16)\n",
      "Requirement already satisfied: langchain-core in /home/jupyter/.local/lib/python3.10/site-packages (from ragas) (0.2.39)\n",
      "Requirement already satisfied: langchain-community in /home/jupyter/.local/lib/python3.10/site-packages (from ragas) (0.2.16)\n",
      "Requirement already satisfied: langchain-openai in /home/jupyter/.local/lib/python3.10/site-packages (from ragas) (0.1.23)\n",
      "Requirement already satisfied: openai>1 in /home/jupyter/.local/lib/python3.10/site-packages (from ragas) (1.44.1)\n",
      "Requirement already satisfied: pysbd>=0.3.4 in /home/jupyter/.local/lib/python3.10/site-packages (from ragas) (0.3.4)\n",
      "Requirement already satisfied: nest-asyncio in /usr/local/lib/python3.10/dist-packages (from ragas) (1.5.6)\n",
      "Requirement already satisfied: appdirs in /usr/local/lib/python3.10/dist-packages (from ragas) (1.4.4)\n",
      "Requirement already satisfied: anyio<5,>=3.5.0 in /usr/local/lib/python3.10/dist-packages (from openai>1->ragas) (3.7.1)\n",
      "Requirement already satisfied: distro<2,>=1.7.0 in /usr/lib/python3/dist-packages (from openai>1->ragas) (1.7.0)\n",
      "Requirement already satisfied: httpx<1,>=0.23.0 in /home/jupyter/.local/lib/python3.10/site-packages (from openai>1->ragas) (0.27.2)\n",
      "Requirement already satisfied: jiter<1,>=0.4.0 in /home/jupyter/.local/lib/python3.10/site-packages (from openai>1->ragas) (0.5.0)\n",
      "Requirement already satisfied: pydantic<3,>=1.9.0 in /home/jupyter/.local/lib/python3.10/site-packages (from openai>1->ragas) (2.6.0)\n",
      "Requirement already satisfied: sniffio in /usr/local/lib/python3.10/dist-packages (from openai>1->ragas) (1.3.0)\n",
      "Requirement already satisfied: tqdm>4 in /home/jupyter/.local/lib/python3.10/site-packages (from openai>1->ragas) (4.66.5)\n",
      "Requirement already satisfied: typing-extensions<5,>=4.11 in /home/jupyter/.local/lib/python3.10/site-packages (from openai>1->ragas) (4.12.2)\n",
      "Requirement already satisfied: filelock in /usr/local/lib/python3.10/dist-packages (from datasets->ragas) (3.12.2)\n",
      "Requirement already satisfied: pyarrow>=15.0.0 in /home/jupyter/.local/lib/python3.10/site-packages (from datasets->ragas) (17.0.0)\n",
      "Requirement already satisfied: dill<0.3.9,>=0.3.0 in /home/jupyter/.local/lib/python3.10/site-packages (from datasets->ragas) (0.3.8)\n",
      "Requirement already satisfied: pandas in /usr/local/lib/python3.10/dist-packages (from datasets->ragas) (1.5.3)\n",
      "Requirement already satisfied: requests>=2.32.2 in /home/jupyter/.local/lib/python3.10/site-packages (from datasets->ragas) (2.32.3)\n",
      "Requirement already satisfied: xxhash in /home/jupyter/.local/lib/python3.10/site-packages (from datasets->ragas) (3.5.0)\n",
      "Requirement already satisfied: multiprocess in /home/jupyter/.local/lib/python3.10/site-packages (from datasets->ragas) (0.70.16)\n",
      "Requirement already satisfied: fsspec<=2024.6.1,>=2023.1.0 in /home/jupyter/.local/lib/python3.10/site-packages (from fsspec[http]<=2024.6.1,>=2023.1.0->datasets->ragas) (2024.6.1)\n",
      "Requirement already satisfied: aiohttp in /home/jupyter/.local/lib/python3.10/site-packages (from datasets->ragas) (3.10.5)\n",
      "Requirement already satisfied: huggingface-hub>=0.21.2 in /home/jupyter/.local/lib/python3.10/site-packages (from datasets->ragas) (0.24.7)\n",
      "Requirement already satisfied: packaging in /home/jupyter/.local/lib/python3.10/site-packages (from datasets->ragas) (23.2)\n",
      "Requirement already satisfied: pyyaml>=5.1 in /usr/local/lib/python3.10/dist-packages (from datasets->ragas) (6.0.1)\n",
      "Requirement already satisfied: SQLAlchemy<3,>=1.4 in /usr/local/lib/python3.10/dist-packages (from langchain->ragas) (2.0.19)\n",
      "Requirement already satisfied: async-timeout<5.0.0,>=4.0.0 in /usr/local/lib/python3.10/dist-packages (from langchain->ragas) (4.0.2)\n",
      "Requirement already satisfied: langchain-text-splitters<0.3.0,>=0.2.0 in /home/jupyter/.local/lib/python3.10/site-packages (from langchain->ragas) (0.2.4)\n",
      "Requirement already satisfied: langsmith<0.2.0,>=0.1.17 in /home/jupyter/.local/lib/python3.10/site-packages (from langchain->ragas) (0.1.116)\n",
      "Requirement already satisfied: tenacity!=8.4.0,<9.0.0,>=8.1.0 in /home/jupyter/.local/lib/python3.10/site-packages (from langchain->ragas) (8.5.0)\n",
      "Requirement already satisfied: jsonpatch<2.0,>=1.33 in /home/jupyter/.local/lib/python3.10/site-packages (from langchain-core->ragas) (1.33)\n",
      "Requirement already satisfied: dataclasses-json<0.7,>=0.5.7 in /home/jupyter/.local/lib/python3.10/site-packages (from langchain-community->ragas) (0.5.14)\n",
      "Requirement already satisfied: regex>=2022.1.18 in /usr/local/lib/python3.10/dist-packages (from tiktoken->ragas) (2022.10.31)\n",
      "Requirement already satisfied: aiohappyeyeballs>=2.3.0 in /home/jupyter/.local/lib/python3.10/site-packages (from aiohttp->datasets->ragas) (2.4.0)\n",
      "Requirement already satisfied: aiosignal>=1.1.2 in /usr/local/lib/python3.10/dist-packages (from aiohttp->datasets->ragas) (1.3.1)\n",
      "Requirement already satisfied: attrs>=17.3.0 in /usr/local/lib/python3.10/dist-packages (from aiohttp->datasets->ragas) (23.1.0)\n",
      "Requirement already satisfied: frozenlist>=1.1.1 in /usr/local/lib/python3.10/dist-packages (from aiohttp->datasets->ragas) (1.4.0)\n",
      "Requirement already satisfied: multidict<7.0,>=4.5 in /usr/local/lib/python3.10/dist-packages (from aiohttp->datasets->ragas) (6.0.4)\n",
      "Requirement already satisfied: yarl<2.0,>=1.0 in /usr/local/lib/python3.10/dist-packages (from aiohttp->datasets->ragas) (1.9.2)\n",
      "Requirement already satisfied: idna>=2.8 in /usr/local/lib/python3.10/dist-packages (from anyio<5,>=3.5.0->openai>1->ragas) (3.4)\n",
      "Requirement already satisfied: exceptiongroup in /usr/local/lib/python3.10/dist-packages (from anyio<5,>=3.5.0->openai>1->ragas) (1.1.2)\n",
      "Requirement already satisfied: marshmallow<4.0.0,>=3.18.0 in /home/jupyter/.local/lib/python3.10/site-packages (from dataclasses-json<0.7,>=0.5.7->langchain-community->ragas) (3.22.0)\n",
      "Requirement already satisfied: typing-inspect<1,>=0.4.0 in /home/jupyter/.local/lib/python3.10/site-packages (from dataclasses-json<0.7,>=0.5.7->langchain-community->ragas) (0.9.0)\n",
      "Requirement already satisfied: certifi in /usr/local/lib/python3.10/dist-packages (from httpx<1,>=0.23.0->openai>1->ragas) (2023.7.22)\n",
      "Requirement already satisfied: httpcore==1.* in /home/jupyter/.local/lib/python3.10/site-packages (from httpx<1,>=0.23.0->openai>1->ragas) (1.0.5)\n",
      "Requirement already satisfied: h11<0.15,>=0.13 in /home/jupyter/.local/lib/python3.10/site-packages (from httpcore==1.*->httpx<1,>=0.23.0->openai>1->ragas) (0.14.0)\n",
      "Requirement already satisfied: jsonpointer>=1.9 in /home/jupyter/.local/lib/python3.10/site-packages (from jsonpatch<2.0,>=1.33->langchain-core->ragas) (3.0.0)\n",
      "Requirement already satisfied: orjson<4.0.0,>=3.9.14 in /home/jupyter/.local/lib/python3.10/site-packages (from langsmith<0.2.0,>=0.1.17->langchain->ragas) (3.10.7)\n",
      "Requirement already satisfied: annotated-types>=0.4.0 in /home/jupyter/.local/lib/python3.10/site-packages (from pydantic<3,>=1.9.0->openai>1->ragas) (0.7.0)\n",
      "Requirement already satisfied: pydantic-core==2.16.1 in /home/jupyter/.local/lib/python3.10/site-packages (from pydantic<3,>=1.9.0->openai>1->ragas) (2.16.1)\n",
      "Requirement already satisfied: charset-normalizer<4,>=2 in /usr/local/lib/python3.10/dist-packages (from requests>=2.32.2->datasets->ragas) (2.0.12)\n",
      "Requirement already satisfied: urllib3<3,>=1.21.1 in /home/jupyter/.local/lib/python3.10/site-packages (from requests>=2.32.2->datasets->ragas) (2.2.2)\n",
      "Requirement already satisfied: greenlet!=0.4.17 in /usr/local/lib/python3.10/dist-packages (from SQLAlchemy<3,>=1.4->langchain->ragas) (2.0.2)\n",
      "Requirement already satisfied: python-dateutil>=2.8.1 in /usr/local/lib/python3.10/dist-packages (from pandas->datasets->ragas) (2.8.2)\n",
      "Requirement already satisfied: pytz>=2020.1 in /usr/local/lib/python3.10/dist-packages (from pandas->datasets->ragas) (2022.7.1)\n",
      "Requirement already satisfied: six>=1.5 in /usr/lib/python3/dist-packages (from python-dateutil>=2.8.1->pandas->datasets->ragas) (1.16.0)\n",
      "Requirement already satisfied: mypy-extensions>=0.3.0 in /home/jupyter/.local/lib/python3.10/site-packages (from typing-inspect<1,>=0.4.0->dataclasses-json<0.7,>=0.5.7->langchain-community->ragas) (1.0.0)\n",
      "\n",
      "\u001b[1m[\u001b[0m\u001b[34;49mnotice\u001b[0m\u001b[1;39;49m]\u001b[0m\u001b[39;49m A new release of pip is available: \u001b[0m\u001b[31;49m23.0.1\u001b[0m\u001b[39;49m -> \u001b[0m\u001b[32;49m24.2\u001b[0m\n",
      "\u001b[1m[\u001b[0m\u001b[34;49mnotice\u001b[0m\u001b[1;39;49m]\u001b[0m\u001b[39;49m To update, run: \u001b[0m\u001b[32;49mpython3 -m pip install --upgrade pip\u001b[0m\n"
     ]
    }
   ],
   "source": [
    "%pip install ragas"
   ]
  },
  {
   "cell_type": "code",
   "execution_count": 8,
   "id": "596fa0cf-7950-4a0a-b4dd-1d1a20be8991",
   "metadata": {
    "execution": {
     "iopub.execute_input": "2024-09-12T17:30:27.435480Z",
     "iopub.status.busy": "2024-09-12T17:30:27.434485Z",
     "iopub.status.idle": "2024-09-12T17:30:30.043918Z",
     "shell.execute_reply": "2024-09-12T17:30:30.043008Z",
     "shell.execute_reply.started": "2024-09-12T17:30:27.435435Z"
    },
    "tags": []
   },
   "outputs": [],
   "source": [
    "from ragas.metrics import faithfulness, answer_relevancy, context_recall, context_precision\n",
    "from ragas import evaluate "
   ]
  },
  {
   "cell_type": "code",
   "execution_count": 9,
   "id": "74bbc149-91ee-4e55-b99a-e4487e2bb447",
   "metadata": {
    "execution": {
     "iopub.execute_input": "2024-09-12T17:30:30.048324Z",
     "iopub.status.busy": "2024-09-12T17:30:30.045015Z",
     "iopub.status.idle": "2024-09-12T17:30:30.166455Z",
     "shell.execute_reply": "2024-09-12T17:30:30.165486Z",
     "shell.execute_reply.started": "2024-09-12T17:30:30.048276Z"
    },
    "tags": []
   },
   "outputs": [],
   "source": [
    "from datasets import Dataset\n",
    "from ragas.metrics import faithfulness, answer_correctness"
   ]
  },
  {
   "cell_type": "code",
   "execution_count": 10,
   "id": "b04d8875-3d6c-41b4-8187-89d9deffadd8",
   "metadata": {
    "execution": {
     "iopub.execute_input": "2024-09-12T17:30:30.169280Z",
     "iopub.status.busy": "2024-09-12T17:30:30.168547Z",
     "iopub.status.idle": "2024-09-12T17:30:30.207283Z",
     "shell.execute_reply": "2024-09-12T17:30:30.206400Z",
     "shell.execute_reply.started": "2024-09-12T17:30:30.169238Z"
    },
    "tags": []
   },
   "outputs": [],
   "source": [
    "from ragas.llms import LangchainLLMWrapper"
   ]
  },
  {
   "cell_type": "code",
   "execution_count": 11,
   "id": "4d86f1cc-016c-42d7-a209-bde9079b244e",
   "metadata": {
    "execution": {
     "iopub.execute_input": "2024-09-12T17:30:30.209195Z",
     "iopub.status.busy": "2024-09-12T17:30:30.208581Z",
     "iopub.status.idle": "2024-09-12T17:30:32.804144Z",
     "shell.execute_reply": "2024-09-12T17:30:32.803078Z",
     "shell.execute_reply.started": "2024-09-12T17:30:30.209153Z"
    },
    "tags": []
   },
   "outputs": [
    {
     "name": "stdout",
     "output_type": "stream",
     "text": [
      "Defaulting to user installation because normal site-packages is not writeable\n",
      "Requirement already satisfied: yandexcloud in /home/jupyter/.local/lib/python3.10/site-packages (0.316.0)\n",
      "Requirement already satisfied: cryptography<43,>=41.0.7 in /home/jupyter/.local/lib/python3.10/site-packages (from yandexcloud) (42.0.8)\n",
      "Requirement already satisfied: grpcio<2,>=1.64.0 in /home/jupyter/.local/lib/python3.10/site-packages (from yandexcloud) (1.66.1)\n",
      "Requirement already satisfied: protobuf<5,>=4.25.3 in /home/jupyter/.local/lib/python3.10/site-packages (from yandexcloud) (4.25.4)\n",
      "Requirement already satisfied: googleapis-common-protos<2,>=1.63.0 in /home/jupyter/.local/lib/python3.10/site-packages (from yandexcloud) (1.65.0)\n",
      "Requirement already satisfied: pyjwt<3,>=2.8.0 in /home/jupyter/.local/lib/python3.10/site-packages (from yandexcloud) (2.9.0)\n",
      "Requirement already satisfied: requests<3,>=2.32.3 in /home/jupyter/.local/lib/python3.10/site-packages (from yandexcloud) (2.32.3)\n",
      "Requirement already satisfied: six<2,>=1.16.0 in /usr/lib/python3/dist-packages (from yandexcloud) (1.16.0)\n",
      "Requirement already satisfied: cffi>=1.12 in /usr/local/lib/python3.10/dist-packages (from cryptography<43,>=41.0.7->yandexcloud) (1.15.1)\n",
      "Requirement already satisfied: charset-normalizer<4,>=2 in /usr/local/lib/python3.10/dist-packages (from requests<3,>=2.32.3->yandexcloud) (2.0.12)\n",
      "Requirement already satisfied: idna<4,>=2.5 in /usr/local/lib/python3.10/dist-packages (from requests<3,>=2.32.3->yandexcloud) (3.4)\n",
      "Requirement already satisfied: urllib3<3,>=1.21.1 in /home/jupyter/.local/lib/python3.10/site-packages (from requests<3,>=2.32.3->yandexcloud) (2.2.2)\n",
      "Requirement already satisfied: certifi>=2017.4.17 in /usr/local/lib/python3.10/dist-packages (from requests<3,>=2.32.3->yandexcloud) (2023.7.22)\n",
      "Requirement already satisfied: pycparser in /usr/local/lib/python3.10/dist-packages (from cffi>=1.12->cryptography<43,>=41.0.7->yandexcloud) (2.21)\n",
      "\n",
      "\u001b[1m[\u001b[0m\u001b[34;49mnotice\u001b[0m\u001b[1;39;49m]\u001b[0m\u001b[39;49m A new release of pip is available: \u001b[0m\u001b[31;49m23.0.1\u001b[0m\u001b[39;49m -> \u001b[0m\u001b[32;49m24.2\u001b[0m\n",
      "\u001b[1m[\u001b[0m\u001b[34;49mnotice\u001b[0m\u001b[1;39;49m]\u001b[0m\u001b[39;49m To update, run: \u001b[0m\u001b[32;49mpython3 -m pip install --upgrade pip\u001b[0m\n"
     ]
    }
   ],
   "source": [
    "%pip install yandexcloud"
   ]
  },
  {
   "cell_type": "code",
   "execution_count": 12,
   "id": "f997f585-fd54-4c5f-bb93-c4c1b228b2eb",
   "metadata": {
    "execution": {
     "iopub.execute_input": "2024-09-12T17:30:32.806888Z",
     "iopub.status.busy": "2024-09-12T17:30:32.805505Z",
     "iopub.status.idle": "2024-09-12T17:30:32.987364Z",
     "shell.execute_reply": "2024-09-12T17:30:32.986422Z",
     "shell.execute_reply.started": "2024-09-12T17:30:32.806842Z"
    },
    "tags": []
   },
   "outputs": [],
   "source": [
    "from langchain_core.language_models import BaseLanguageModel\n",
    "from langchain_core.embeddings import Embeddings\n",
    "from langchain_community.chat_models import ChatYandexGPT\n",
    "from langchain_community.llms import YandexGPT"
   ]
  },
  {
   "cell_type": "code",
   "execution_count": 13,
   "id": "45da15de-50f3-4060-9804-6a5e45dfa07c",
   "metadata": {
    "execution": {
     "iopub.execute_input": "2024-09-12T17:30:32.989416Z",
     "iopub.status.busy": "2024-09-12T17:30:32.988591Z",
     "iopub.status.idle": "2024-09-12T17:30:33.014015Z",
     "shell.execute_reply": "2024-09-12T17:30:33.013202Z",
     "shell.execute_reply.started": "2024-09-12T17:30:32.989378Z"
    },
    "tags": []
   },
   "outputs": [],
   "source": [
    "llm = YandexGPT(iam_token='', folder_id='b1g5pkij4170jm1a1un6', temperature=0)"
   ]
  },
  {
   "cell_type": "code",
   "execution_count": 14,
   "id": "75ed22b0-40ae-4a20-8c84-270412d23095",
   "metadata": {
    "execution": {
     "iopub.execute_input": "2024-09-12T17:30:33.016171Z",
     "iopub.status.busy": "2024-09-12T17:30:33.015080Z",
     "iopub.status.idle": "2024-09-12T17:30:50.832880Z",
     "shell.execute_reply": "2024-09-12T17:30:50.831955Z",
     "shell.execute_reply.started": "2024-09-12T17:30:33.016133Z"
    },
    "tags": []
   },
   "outputs": [
    {
     "name": "stdout",
     "output_type": "stream",
     "text": [
      "Defaulting to user installation because normal site-packages is not writeable\n",
      "Requirement already satisfied: langchain_community in /home/jupyter/.local/lib/python3.10/site-packages (0.2.16)\n",
      "Requirement already satisfied: tiktoken in /home/jupyter/.local/lib/python3.10/site-packages (0.7.0)\n",
      "Requirement already satisfied: langchain-openai in /home/jupyter/.local/lib/python3.10/site-packages (0.1.23)\n",
      "Requirement already satisfied: langchainhub in /home/jupyter/.local/lib/python3.10/site-packages (0.1.21)\n",
      "Requirement already satisfied: langchain in /home/jupyter/.local/lib/python3.10/site-packages (0.2.16)\n",
      "Requirement already satisfied: langgraph in /home/jupyter/.local/lib/python3.10/site-packages (0.2.19)\n",
      "Requirement already satisfied: langchain_huggingface in /home/jupyter/.local/lib/python3.10/site-packages (0.0.3)\n",
      "Requirement already satisfied: PyYAML>=5.3 in /usr/local/lib/python3.10/dist-packages (from langchain_community) (6.0.1)\n",
      "Requirement already satisfied: SQLAlchemy<3,>=1.4 in /usr/local/lib/python3.10/dist-packages (from langchain_community) (2.0.19)\n",
      "Requirement already satisfied: aiohttp<4.0.0,>=3.8.3 in /home/jupyter/.local/lib/python3.10/site-packages (from langchain_community) (3.10.5)\n",
      "Requirement already satisfied: dataclasses-json<0.7,>=0.5.7 in /home/jupyter/.local/lib/python3.10/site-packages (from langchain_community) (0.5.14)\n",
      "Requirement already satisfied: langchain-core<0.3.0,>=0.2.38 in /home/jupyter/.local/lib/python3.10/site-packages (from langchain_community) (0.2.39)\n",
      "Requirement already satisfied: langsmith<0.2.0,>=0.1.0 in /home/jupyter/.local/lib/python3.10/site-packages (from langchain_community) (0.1.116)\n",
      "Requirement already satisfied: numpy<2,>=1 in /home/jupyter/.local/lib/python3.10/site-packages (from langchain_community) (1.26.4)\n",
      "Requirement already satisfied: requests<3,>=2 in /home/jupyter/.local/lib/python3.10/site-packages (from langchain_community) (2.32.3)\n",
      "Requirement already satisfied: tenacity!=8.4.0,<9.0.0,>=8.1.0 in /home/jupyter/.local/lib/python3.10/site-packages (from langchain_community) (8.5.0)\n",
      "Requirement already satisfied: regex>=2022.1.18 in /usr/local/lib/python3.10/dist-packages (from tiktoken) (2022.10.31)\n",
      "Requirement already satisfied: openai<2.0.0,>=1.40.0 in /home/jupyter/.local/lib/python3.10/site-packages (from langchain-openai) (1.44.1)\n",
      "Requirement already satisfied: packaging<25,>=23.2 in /home/jupyter/.local/lib/python3.10/site-packages (from langchainhub) (23.2)\n",
      "Requirement already satisfied: types-requests<3.0.0.0,>=2.31.0.2 in /home/jupyter/.local/lib/python3.10/site-packages (from langchainhub) (2.32.0.20240907)\n",
      "Requirement already satisfied: async-timeout<5.0.0,>=4.0.0 in /usr/local/lib/python3.10/dist-packages (from langchain) (4.0.2)\n",
      "Requirement already satisfied: langchain-text-splitters<0.3.0,>=0.2.0 in /home/jupyter/.local/lib/python3.10/site-packages (from langchain) (0.2.4)\n",
      "Requirement already satisfied: pydantic<3,>=1 in /home/jupyter/.local/lib/python3.10/site-packages (from langchain) (2.6.0)\n",
      "Requirement already satisfied: langgraph-checkpoint<2.0.0,>=1.0.2 in /home/jupyter/.local/lib/python3.10/site-packages (from langgraph) (1.0.9)\n",
      "Requirement already satisfied: huggingface-hub>=0.23.0 in /home/jupyter/.local/lib/python3.10/site-packages (from langchain_huggingface) (0.24.7)\n",
      "Requirement already satisfied: sentence-transformers>=2.6.0 in /home/jupyter/.local/lib/python3.10/site-packages (from langchain_huggingface) (3.1.0)\n",
      "Requirement already satisfied: tokenizers>=0.19.1 in /home/jupyter/.local/lib/python3.10/site-packages (from langchain_huggingface) (0.19.1)\n",
      "Requirement already satisfied: transformers>=4.39.0 in /home/jupyter/.local/lib/python3.10/site-packages (from langchain_huggingface) (4.44.2)\n",
      "Requirement already satisfied: aiohappyeyeballs>=2.3.0 in /home/jupyter/.local/lib/python3.10/site-packages (from aiohttp<4.0.0,>=3.8.3->langchain_community) (2.4.0)\n",
      "Requirement already satisfied: aiosignal>=1.1.2 in /usr/local/lib/python3.10/dist-packages (from aiohttp<4.0.0,>=3.8.3->langchain_community) (1.3.1)\n",
      "Requirement already satisfied: attrs>=17.3.0 in /usr/local/lib/python3.10/dist-packages (from aiohttp<4.0.0,>=3.8.3->langchain_community) (23.1.0)\n",
      "Requirement already satisfied: frozenlist>=1.1.1 in /usr/local/lib/python3.10/dist-packages (from aiohttp<4.0.0,>=3.8.3->langchain_community) (1.4.0)\n",
      "Requirement already satisfied: multidict<7.0,>=4.5 in /usr/local/lib/python3.10/dist-packages (from aiohttp<4.0.0,>=3.8.3->langchain_community) (6.0.4)\n",
      "Requirement already satisfied: yarl<2.0,>=1.0 in /usr/local/lib/python3.10/dist-packages (from aiohttp<4.0.0,>=3.8.3->langchain_community) (1.9.2)\n",
      "Requirement already satisfied: marshmallow<4.0.0,>=3.18.0 in /home/jupyter/.local/lib/python3.10/site-packages (from dataclasses-json<0.7,>=0.5.7->langchain_community) (3.22.0)\n",
      "Requirement already satisfied: typing-inspect<1,>=0.4.0 in /home/jupyter/.local/lib/python3.10/site-packages (from dataclasses-json<0.7,>=0.5.7->langchain_community) (0.9.0)\n",
      "Requirement already satisfied: filelock in /usr/local/lib/python3.10/dist-packages (from huggingface-hub>=0.23.0->langchain_huggingface) (3.12.2)\n",
      "Requirement already satisfied: fsspec>=2023.5.0 in /home/jupyter/.local/lib/python3.10/site-packages (from huggingface-hub>=0.23.0->langchain_huggingface) (2024.6.1)\n",
      "Requirement already satisfied: tqdm>=4.42.1 in /home/jupyter/.local/lib/python3.10/site-packages (from huggingface-hub>=0.23.0->langchain_huggingface) (4.66.5)\n",
      "Requirement already satisfied: typing-extensions>=3.7.4.3 in /home/jupyter/.local/lib/python3.10/site-packages (from huggingface-hub>=0.23.0->langchain_huggingface) (4.12.2)\n",
      "Requirement already satisfied: jsonpatch<2.0,>=1.33 in /home/jupyter/.local/lib/python3.10/site-packages (from langchain-core<0.3.0,>=0.2.38->langchain_community) (1.33)\n",
      "Requirement already satisfied: httpx<1,>=0.23.0 in /home/jupyter/.local/lib/python3.10/site-packages (from langsmith<0.2.0,>=0.1.0->langchain_community) (0.27.2)\n",
      "Requirement already satisfied: orjson<4.0.0,>=3.9.14 in /home/jupyter/.local/lib/python3.10/site-packages (from langsmith<0.2.0,>=0.1.0->langchain_community) (3.10.7)\n",
      "Requirement already satisfied: anyio<5,>=3.5.0 in /usr/local/lib/python3.10/dist-packages (from openai<2.0.0,>=1.40.0->langchain-openai) (3.7.1)\n",
      "Requirement already satisfied: distro<2,>=1.7.0 in /usr/lib/python3/dist-packages (from openai<2.0.0,>=1.40.0->langchain-openai) (1.7.0)\n",
      "Requirement already satisfied: jiter<1,>=0.4.0 in /home/jupyter/.local/lib/python3.10/site-packages (from openai<2.0.0,>=1.40.0->langchain-openai) (0.5.0)\n",
      "Requirement already satisfied: sniffio in /usr/local/lib/python3.10/dist-packages (from openai<2.0.0,>=1.40.0->langchain-openai) (1.3.0)\n",
      "Requirement already satisfied: annotated-types>=0.4.0 in /home/jupyter/.local/lib/python3.10/site-packages (from pydantic<3,>=1->langchain) (0.7.0)\n",
      "Requirement already satisfied: pydantic-core==2.16.1 in /home/jupyter/.local/lib/python3.10/site-packages (from pydantic<3,>=1->langchain) (2.16.1)\n",
      "Requirement already satisfied: charset-normalizer<4,>=2 in /usr/local/lib/python3.10/dist-packages (from requests<3,>=2->langchain_community) (2.0.12)\n",
      "Requirement already satisfied: idna<4,>=2.5 in /usr/local/lib/python3.10/dist-packages (from requests<3,>=2->langchain_community) (3.4)\n",
      "Requirement already satisfied: urllib3<3,>=1.21.1 in /home/jupyter/.local/lib/python3.10/site-packages (from requests<3,>=2->langchain_community) (2.2.2)\n",
      "Requirement already satisfied: certifi>=2017.4.17 in /usr/local/lib/python3.10/dist-packages (from requests<3,>=2->langchain_community) (2023.7.22)\n",
      "Requirement already satisfied: torch>=1.11.0 in /usr/local/lib/python3.10/dist-packages (from sentence-transformers>=2.6.0->langchain_huggingface) (2.0.1+cu118)\n",
      "Requirement already satisfied: scikit-learn in /usr/local/lib/python3.10/dist-packages (from sentence-transformers>=2.6.0->langchain_huggingface) (1.2.2)\n",
      "Requirement already satisfied: scipy in /usr/local/lib/python3.10/dist-packages (from sentence-transformers>=2.6.0->langchain_huggingface) (1.10.1)\n",
      "Requirement already satisfied: Pillow in /usr/local/lib/python3.10/dist-packages (from sentence-transformers>=2.6.0->langchain_huggingface) (9.4.0)\n",
      "Requirement already satisfied: greenlet!=0.4.17 in /usr/local/lib/python3.10/dist-packages (from SQLAlchemy<3,>=1.4->langchain_community) (2.0.2)\n",
      "Requirement already satisfied: safetensors>=0.4.1 in /home/jupyter/.local/lib/python3.10/site-packages (from transformers>=4.39.0->langchain_huggingface) (0.4.5)\n",
      "Requirement already satisfied: exceptiongroup in /usr/local/lib/python3.10/dist-packages (from anyio<5,>=3.5.0->openai<2.0.0,>=1.40.0->langchain-openai) (1.1.2)\n",
      "Requirement already satisfied: httpcore==1.* in /home/jupyter/.local/lib/python3.10/site-packages (from httpx<1,>=0.23.0->langsmith<0.2.0,>=0.1.0->langchain_community) (1.0.5)\n",
      "Requirement already satisfied: h11<0.15,>=0.13 in /home/jupyter/.local/lib/python3.10/site-packages (from httpcore==1.*->httpx<1,>=0.23.0->langsmith<0.2.0,>=0.1.0->langchain_community) (0.14.0)\n",
      "Requirement already satisfied: jsonpointer>=1.9 in /home/jupyter/.local/lib/python3.10/site-packages (from jsonpatch<2.0,>=1.33->langchain-core<0.3.0,>=0.2.38->langchain_community) (3.0.0)\n",
      "Requirement already satisfied: sympy in /usr/local/lib/python3.10/dist-packages (from torch>=1.11.0->sentence-transformers>=2.6.0->langchain_huggingface) (1.11.1)\n",
      "Requirement already satisfied: networkx in /usr/local/lib/python3.10/dist-packages (from torch>=1.11.0->sentence-transformers>=2.6.0->langchain_huggingface) (3.1)\n",
      "Requirement already satisfied: jinja2 in /usr/local/lib/python3.10/dist-packages (from torch>=1.11.0->sentence-transformers>=2.6.0->langchain_huggingface) (3.1.2)\n",
      "Requirement already satisfied: triton==2.0.0 in /usr/local/lib/python3.10/dist-packages (from torch>=1.11.0->sentence-transformers>=2.6.0->langchain_huggingface) (2.0.0)\n",
      "Requirement already satisfied: cmake in /usr/local/lib/python3.10/dist-packages (from triton==2.0.0->torch>=1.11.0->sentence-transformers>=2.6.0->langchain_huggingface) (3.25.2)\n",
      "Requirement already satisfied: lit in /usr/local/lib/python3.10/dist-packages (from triton==2.0.0->torch>=1.11.0->sentence-transformers>=2.6.0->langchain_huggingface) (16.0.6)\n",
      "Requirement already satisfied: mypy-extensions>=0.3.0 in /home/jupyter/.local/lib/python3.10/site-packages (from typing-inspect<1,>=0.4.0->dataclasses-json<0.7,>=0.5.7->langchain_community) (1.0.0)\n",
      "Requirement already satisfied: joblib>=1.1.1 in /usr/local/lib/python3.10/dist-packages (from scikit-learn->sentence-transformers>=2.6.0->langchain_huggingface) (1.3.1)\n",
      "Requirement already satisfied: threadpoolctl>=2.0.0 in /usr/local/lib/python3.10/dist-packages (from scikit-learn->sentence-transformers>=2.6.0->langchain_huggingface) (3.2.0)\n",
      "Requirement already satisfied: MarkupSafe>=2.0 in /usr/local/lib/python3.10/dist-packages (from jinja2->torch>=1.11.0->sentence-transformers>=2.6.0->langchain_huggingface) (2.1.3)\n",
      "Requirement already satisfied: mpmath>=0.19 in /usr/local/lib/python3.10/dist-packages (from sympy->torch>=1.11.0->sentence-transformers>=2.6.0->langchain_huggingface) (1.3.0)\n",
      "\n",
      "\u001b[1m[\u001b[0m\u001b[34;49mnotice\u001b[0m\u001b[1;39;49m]\u001b[0m\u001b[39;49m A new release of pip is available: \u001b[0m\u001b[31;49m23.0.1\u001b[0m\u001b[39;49m -> \u001b[0m\u001b[32;49m24.2\u001b[0m\n",
      "\u001b[1m[\u001b[0m\u001b[34;49mnotice\u001b[0m\u001b[1;39;49m]\u001b[0m\u001b[39;49m To update, run: \u001b[0m\u001b[32;49mpython3 -m pip install --upgrade pip\u001b[0m\n",
      "Defaulting to user installation because normal site-packages is not writeable\n",
      "Requirement already satisfied: pymilvus in /home/jupyter/.local/lib/python3.10/site-packages (2.4.6)\n",
      "Requirement already satisfied: sentence-transformers in /home/jupyter/.local/lib/python3.10/site-packages (3.1.0)\n",
      "Requirement already satisfied: fsspec in /home/jupyter/.local/lib/python3.10/site-packages (2024.6.1)\n",
      "Collecting fsspec\n",
      "  Downloading fsspec-2024.9.0-py3-none-any.whl.metadata (11 kB)\n",
      "Requirement already satisfied: s3fs in /home/jupyter/.local/lib/python3.10/site-packages (2024.9.0)\n",
      "Requirement already satisfied: yandexcloud in /home/jupyter/.local/lib/python3.10/site-packages (0.316.0)\n",
      "Requirement already satisfied: transformers in /home/jupyter/.local/lib/python3.10/site-packages (4.44.2)\n",
      "Requirement already satisfied: pip in /kernel/lib/python3.10/site-packages (23.0.1)\n",
      "Collecting pip\n",
      "  Downloading pip-24.2-py3-none-any.whl.metadata (3.6 kB)\n",
      "\u001b[31mERROR: Could not find a version that satisfies the requirement install (from versions: none)\u001b[0m\u001b[31m\n",
      "\u001b[0m\n",
      "\u001b[1m[\u001b[0m\u001b[34;49mnotice\u001b[0m\u001b[1;39;49m]\u001b[0m\u001b[39;49m A new release of pip is available: \u001b[0m\u001b[31;49m23.0.1\u001b[0m\u001b[39;49m -> \u001b[0m\u001b[32;49m24.2\u001b[0m\n",
      "\u001b[1m[\u001b[0m\u001b[34;49mnotice\u001b[0m\u001b[1;39;49m]\u001b[0m\u001b[39;49m To update, run: \u001b[0m\u001b[32;49mpython3 -m pip install --upgrade pip\u001b[0m\n",
      "\u001b[31mERROR: No matching distribution found for install\u001b[0m\u001b[31m\n",
      "\u001b[0mDefaulting to user installation because normal site-packages is not writeable\n",
      "Requirement already satisfied: huggingface-hub in /home/jupyter/.local/lib/python3.10/site-packages (0.24.7)\n",
      "Requirement already satisfied: filelock in /usr/local/lib/python3.10/dist-packages (from huggingface-hub) (3.12.2)\n",
      "Requirement already satisfied: fsspec>=2023.5.0 in /home/jupyter/.local/lib/python3.10/site-packages (from huggingface-hub) (2024.6.1)\n",
      "Requirement already satisfied: packaging>=20.9 in /home/jupyter/.local/lib/python3.10/site-packages (from huggingface-hub) (23.2)\n",
      "Requirement already satisfied: pyyaml>=5.1 in /usr/local/lib/python3.10/dist-packages (from huggingface-hub) (6.0.1)\n",
      "Requirement already satisfied: requests in /home/jupyter/.local/lib/python3.10/site-packages (from huggingface-hub) (2.32.3)\n",
      "Requirement already satisfied: tqdm>=4.42.1 in /home/jupyter/.local/lib/python3.10/site-packages (from huggingface-hub) (4.66.5)\n",
      "Requirement already satisfied: typing-extensions>=3.7.4.3 in /home/jupyter/.local/lib/python3.10/site-packages (from huggingface-hub) (4.12.2)\n",
      "Requirement already satisfied: charset-normalizer<4,>=2 in /usr/local/lib/python3.10/dist-packages (from requests->huggingface-hub) (2.0.12)\n",
      "Requirement already satisfied: idna<4,>=2.5 in /usr/local/lib/python3.10/dist-packages (from requests->huggingface-hub) (3.4)\n",
      "Requirement already satisfied: urllib3<3,>=1.21.1 in /home/jupyter/.local/lib/python3.10/site-packages (from requests->huggingface-hub) (2.2.2)\n",
      "Requirement already satisfied: certifi>=2017.4.17 in /usr/local/lib/python3.10/dist-packages (from requests->huggingface-hub) (2023.7.22)\n",
      "\n",
      "\u001b[1m[\u001b[0m\u001b[34;49mnotice\u001b[0m\u001b[1;39;49m]\u001b[0m\u001b[39;49m A new release of pip is available: \u001b[0m\u001b[31;49m23.0.1\u001b[0m\u001b[39;49m -> \u001b[0m\u001b[32;49m24.2\u001b[0m\n",
      "\u001b[1m[\u001b[0m\u001b[34;49mnotice\u001b[0m\u001b[1;39;49m]\u001b[0m\u001b[39;49m To update, run: \u001b[0m\u001b[32;49mpython3 -m pip install --upgrade pip\u001b[0m\n",
      "\u001b[31mERROR: pip's dependency resolver does not currently take into account all the packages that are installed. This behaviour is the source of the following dependency conflicts.\n",
      "numba 0.56.4 requires numpy<1.24,>=1.18, but you have numpy 1.26.4 which is incompatible.\n",
      "pandas-gbq 0.17.9 requires pyarrow<10.0dev,>=3.0.0, but you have pyarrow 17.0.0 which is incompatible.\n",
      "spacy 3.5.4 requires pydantic!=1.8,!=1.8.1,<1.11.0,>=1.7.4, but you have pydantic 2.6.0 which is incompatible.\n",
      "tensorflow 2.12.0 requires numpy<1.24,>=1.22, but you have numpy 1.26.4 which is incompatible.\n",
      "thinc 8.1.10 requires pydantic!=1.8,!=1.8.1,<1.11.0,>=1.7.4, but you have pydantic 2.6.0 which is incompatible.\u001b[0m\u001b[31m\n",
      "\u001b[0m\n",
      "\u001b[1m[\u001b[0m\u001b[34;49mnotice\u001b[0m\u001b[1;39;49m]\u001b[0m\u001b[39;49m A new release of pip is available: \u001b[0m\u001b[31;49m23.0.1\u001b[0m\u001b[39;49m -> \u001b[0m\u001b[32;49m24.2\u001b[0m\n",
      "\u001b[1m[\u001b[0m\u001b[34;49mnotice\u001b[0m\u001b[1;39;49m]\u001b[0m\u001b[39;49m To update, run: \u001b[0m\u001b[32;49mpython3 -m pip install --upgrade pip\u001b[0m\n",
      "Defaulting to user installation because normal site-packages is not writeable\n",
      "Requirement already satisfied: pydantic==2.6.0 in /home/jupyter/.local/lib/python3.10/site-packages (2.6.0)\n",
      "Requirement already satisfied: annotated-types>=0.4.0 in /home/jupyter/.local/lib/python3.10/site-packages (from pydantic==2.6.0) (0.7.0)\n",
      "Requirement already satisfied: pydantic-core==2.16.1 in /home/jupyter/.local/lib/python3.10/site-packages (from pydantic==2.6.0) (2.16.1)\n",
      "Requirement already satisfied: typing-extensions>=4.6.1 in /home/jupyter/.local/lib/python3.10/site-packages (from pydantic==2.6.0) (4.12.2)\n",
      "\n",
      "\u001b[1m[\u001b[0m\u001b[34;49mnotice\u001b[0m\u001b[1;39;49m]\u001b[0m\u001b[39;49m A new release of pip is available: \u001b[0m\u001b[31;49m23.0.1\u001b[0m\u001b[39;49m -> \u001b[0m\u001b[32;49m24.2\u001b[0m\n",
      "\u001b[1m[\u001b[0m\u001b[34;49mnotice\u001b[0m\u001b[1;39;49m]\u001b[0m\u001b[39;49m To update, run: \u001b[0m\u001b[32;49mpython3 -m pip install --upgrade pip\u001b[0m\n"
     ]
    }
   ],
   "source": [
    "%pip install -U langchain_community tiktoken langchain-openai langchainhub langchain langgraph langchain_huggingface\n",
    "%pip install -U pymilvus sentence-transformers fsspec s3fs yandexcloud transformers pip install langchain-experimental\n",
    "%pip install --upgrade huggingface-hub\n",
    "%pip install -qU  langchain_milvus\n",
    "%pip install pydantic==2.6.0"
   ]
  },
  {
   "cell_type": "code",
   "execution_count": 15,
   "id": "ad972125-4339-479a-ab11-89ad2e406f7e",
   "metadata": {
    "execution": {
     "iopub.execute_input": "2024-09-12T17:30:50.835125Z",
     "iopub.status.busy": "2024-09-12T17:30:50.834292Z",
     "iopub.status.idle": "2024-09-12T17:31:01.311800Z",
     "shell.execute_reply": "2024-09-12T17:31:01.310832Z",
     "shell.execute_reply.started": "2024-09-12T17:30:50.835080Z"
    },
    "tags": []
   },
   "outputs": [
    {
     "name": "stderr",
     "output_type": "stream",
     "text": [
      "USER_AGENT environment variable not set, consider setting it to identify your requests.\n",
      "/home/jupyter/.local/lib/python3.10/site-packages/transformers/utils/hub.py:127: FutureWarning: Using `TRANSFORMERS_CACHE` is deprecated and will be removed in v5 of Transformers. Use `HF_HOME` instead.\n",
      "  warnings.warn(\n",
      "2024-09-12 17:30:55.675676: I tensorflow/core/util/port.cc:110] oneDNN custom operations are on. You may see slightly different numerical results due to floating-point round-off errors from different computation orders. To turn them off, set the environment variable `TF_ENABLE_ONEDNN_OPTS=0`.\n",
      "2024-09-12 17:30:55.743591: I tensorflow/core/platform/cpu_feature_guard.cc:182] This TensorFlow binary is optimized to use available CPU instructions in performance-critical operations.\n",
      "To enable the following instructions: AVX2 AVX512F AVX512_VNNI FMA, in other operations, rebuild TensorFlow with the appropriate compiler flags.\n",
      "2024-09-12 17:30:56.780157: W tensorflow/compiler/tf2tensorrt/utils/py_utils.cc:38] TF-TRT Warning: Could not find TensorRT\n"
     ]
    }
   ],
   "source": [
    "from langchain.text_splitter import RecursiveCharacterTextSplitter\n",
    "from langchain_community.document_loaders import WebBaseLoader\n",
    "from langchain_milvus import Milvus\n",
    "from langchain_huggingface import HuggingFaceEmbeddings\n",
    "from transformers import AutoModel\n",
    "\n",
    "model = AutoModel.from_pretrained(\"deepvk/USER-bge-m3\", trust_remote_code=True) \n",
    "\n",
    "model_name = \"deepvk/USER-bge-m3\"\n",
    "model_kwargs = {'device': 'cpu'}\n",
    "embeddings = HuggingFaceEmbeddings(\n",
    "    model_name=model_name,\n",
    "    model_kwargs=model_kwargs,\n",
    ")\n"
   ]
  },
  {
   "cell_type": "code",
   "execution_count": 16,
   "id": "1bd6ac38-5d03-4d88-95dd-5c193796f85b",
   "metadata": {
    "execution": {
     "iopub.execute_input": "2024-09-12T17:31:01.315503Z",
     "iopub.status.busy": "2024-09-12T17:31:01.314174Z",
     "iopub.status.idle": "2024-09-12T17:31:01.340472Z",
     "shell.execute_reply": "2024-09-12T17:31:01.339563Z",
     "shell.execute_reply.started": "2024-09-12T17:31:01.315462Z"
    }
   },
   "outputs": [],
   "source": [
    "from ragas.run_config import RunConfig\n",
    "from ragas.metrics.base import MetricWithLLM, MetricWithEmbeddings\n",
    "\n",
    "\n",
    "# util function to init Ragas Metrics\n",
    "def init_ragas_metrics(metrics, llm, embedding):\n",
    "    for metric in metrics:\n",
    "        if isinstance(metric, MetricWithLLM):\n",
    "            metric.llm = llm\n",
    "        if isinstance(metric, MetricWithEmbeddings):\n",
    "            metric.embeddings = embedding\n",
    "        run_config = RunConfig()\n",
    "        metric.init(run_config)\n"
   ]
  },
  {
   "cell_type": "code",
   "execution_count": 17,
   "id": "19233d8f-b6e1-4cbd-96c6-3ff285f43955",
   "metadata": {
    "execution": {
     "iopub.execute_input": "2024-09-12T17:31:01.342531Z",
     "iopub.status.busy": "2024-09-12T17:31:01.341465Z",
     "iopub.status.idle": "2024-09-12T17:31:02.037246Z",
     "shell.execute_reply": "2024-09-12T17:31:02.035889Z",
     "shell.execute_reply.started": "2024-09-12T17:31:01.342481Z"
    }
   },
   "outputs": [
    {
     "ename": "NameError",
     "evalue": "name 'metrics' is not defined",
     "output_type": "error",
     "traceback": [
      "\u001b[0;31m---------------------------------------------------------------------------\u001b[0m",
      "\u001b[0;31mNameError\u001b[0m                                 Traceback (most recent call last)",
      "\u001b[0;32m/tmp/ipykernel_29467/1172614139.py\u001b[0m in \u001b[0;36m<cell line: 8>\u001b[0;34m()\u001b[0m\n\u001b[1;32m      7\u001b[0m \u001b[0;34m\u001b[0m\u001b[0m\n\u001b[1;32m      8\u001b[0m init_ragas_metrics(\n\u001b[0;32m----> 9\u001b[0;31m     \u001b[0mmetrics\u001b[0m\u001b[0;34m,\u001b[0m\u001b[0;34m\u001b[0m\u001b[0;34m\u001b[0m\u001b[0m\n\u001b[0m\u001b[1;32m     10\u001b[0m     \u001b[0mllm\u001b[0m\u001b[0;34m=\u001b[0m\u001b[0mLangchainLLMWrapper\u001b[0m\u001b[0;34m(\u001b[0m\u001b[0mllm\u001b[0m\u001b[0;34m)\u001b[0m\u001b[0;34m,\u001b[0m\u001b[0;34m\u001b[0m\u001b[0;34m\u001b[0m\u001b[0m\n\u001b[1;32m     11\u001b[0m     \u001b[0membedding\u001b[0m\u001b[0;34m=\u001b[0m\u001b[0mLangchainEmbeddingsWrapper\u001b[0m\u001b[0;34m(\u001b[0m\u001b[0membeddings\u001b[0m\u001b[0;34m)\u001b[0m\u001b[0;34m,\u001b[0m\u001b[0;34m\u001b[0m\u001b[0;34m\u001b[0m\u001b[0m\n",
      "\u001b[0;31mNameError\u001b[0m: name 'metrics' is not defined"
     ]
    }
   ],
   "source": [
    "from langchain_openai.chat_models import ChatOpenAI\n",
    "from langchain_openai.embeddings import OpenAIEmbeddings\n",
    "\n",
    "# wrappers\n",
    "from ragas.llms import LangchainLLMWrapper\n",
    "from ragas.embeddings import LangchainEmbeddingsWrapper\n",
    "\n",
    "init_ragas_metrics(\n",
    "    metrics,\n",
    "    llm=LangchainLLMWrapper(llm),\n",
    "    embedding=LangchainEmbeddingsWrapper(embeddings),\n",
    ")"
   ]
  },
  {
   "cell_type": "code",
   "execution_count": null,
   "id": "7befadf5-e17c-4f97-8986-b8b31d4b0042",
   "metadata": {
    "execution": {
     "iopub.status.busy": "2024-09-12T17:31:02.038439Z",
     "iopub.status.idle": "2024-09-12T17:31:02.038974Z",
     "shell.execute_reply": "2024-09-12T17:31:02.038754Z",
     "shell.execute_reply.started": "2024-09-12T17:31:02.038730Z"
    }
   },
   "outputs": [],
   "source": [
    "langchain_llm = LangchainLLMWrapper(langchain_llm=llm)"
   ]
  },
  {
   "cell_type": "code",
   "execution_count": null,
   "id": "c009af5a-7aba-46d2-b99d-12310f80f77b",
   "metadata": {
    "execution": {
     "iopub.status.busy": "2024-09-12T17:31:02.040828Z",
     "iopub.status.idle": "2024-09-12T17:31:02.041697Z",
     "shell.execute_reply": "2024-09-12T17:31:02.041478Z",
     "shell.execute_reply.started": "2024-09-12T17:31:02.041453Z"
    },
    "tags": []
   },
   "outputs": [],
   "source": [
    "# Вопрос от вашей RAG-системы\n",
    "rag_question = 'Какова общая сумма по городу Когалыму за 2013-2014 годы?'\n",
    "\n",
    "# Удаление лишних пробелов\n",
    "df['question'] = df['question'].str.strip()\n",
    "rag_question = rag_question.strip()\n",
    "\n",
    "# Поиск вопроса в базе данных\n",
    "matched_row = df[df['question'] == rag_question]\n",
    "\n",
    "# Проверяем, найден ли вопрос\n",
    "if not matched_row.empty:\n",
    "    # Извлекаем правильный ответ и контекст\n",
    "    ground_truth = matched_row['ground_truth'].values[0]\n",
    "    contexts = matched_row['contexts'].values[0]\n",
    "    # Ответ от вашей RAG-системы (замените на реальный ответ)\n",
    "    rag_answer = \"Оценка релевантности: набор фрагментов документов релевантен, так как в них содержатся ключевые слова и семантические значения, связанные с вопросом пользователя о реформах, связанных с ветеранами труда.\\n\\n**Ключевые слова:** ветераны труда, ветераны Великой Отечественной войны, ветераны боевых действий, труженики тыла, меры социальной поддержки, присвоение звания «ветеран труда», льготы, субсидии, законы «О ветеранах», «О мерах социальной поддержки отдельных категорий граждан».\\n\\nВ представленных фрагментах документов описывается законодательство и меры поддержки ветеранов труда и других категорий граждан, а также изменения и дополнения к этим законам. Это указывает на наличие информации о возможных реформах в этой области. Однако конкретные сведения о введении новых реформ или изменениях в законодательстве требуют более детального анализа и выделения конкретных цитат из фрагментов.\"\n",
    "\n",
    "    # Подготовка данных для оценки\n",
    "    data_samples = {\n",
    "        'question': [rag_question],\n",
    "        'answer': [rag_answer],\n",
    "        'contexts': [[contexts]],\n",
    "        'ground_truth': [ground_truth]\n",
    "    }\n",
    "    \n",
    "    print(rag_question)\n",
    "    print(contexts)\n",
    "    print(ground_truth)\n",
    "    print(rag_answer)\n",
    "    \n",
    "    # Создаем Dataset для оценки\n",
    "    dataset = Dataset.from_dict(data_samples)\n",
    "\n",
    "    # Оцениваем метрики\n",
    "    score = evaluate(dataset, metrics=[answer_correctness], llm=llm, embeddings=embeddings)\n",
    "\n",
    "    # Преобразуем результаты в pandas DataFrame для удобства\n",
    "    df_score = score.to_pandas()\n",
    "    print(df_score)\n",
    "\n",
    "else:\n",
    "    print(\"Вопрос не найден в базе данных.\")"
   ]
  },
  {
   "cell_type": "code",
   "execution_count": null,
   "id": "f01312e2-bd62-439b-83d2-dbfd9e1ea9cb",
   "metadata": {
    "execution": {
     "iopub.status.busy": "2024-09-12T17:31:02.042656Z",
     "iopub.status.idle": "2024-09-12T17:31:02.043152Z",
     "shell.execute_reply": "2024-09-12T17:31:02.042941Z",
     "shell.execute_reply.started": "2024-09-12T17:31:02.042917Z"
    },
    "tags": []
   },
   "outputs": [],
   "source": [
    "dataset.to_pandas().head()"
   ]
  },
  {
   "cell_type": "code",
   "execution_count": null,
   "id": "f36a758d-2522-471d-97d3-2064c44ffbb7",
   "metadata": {
    "execution": {
     "iopub.status.busy": "2024-09-12T17:31:02.044014Z",
     "iopub.status.idle": "2024-09-12T17:31:02.045990Z",
     "shell.execute_reply": "2024-09-12T17:31:02.045612Z",
     "shell.execute_reply.started": "2024-09-12T17:31:02.045457Z"
    },
    "tags": []
   },
   "outputs": [],
   "source": [
    "matched_row['question']"
   ]
  },
  {
   "cell_type": "code",
   "execution_count": null,
   "id": "f2b00cee-eebd-47ed-97b3-1a5de6d9c9f1",
   "metadata": {
    "execution": {
     "iopub.status.busy": "2024-09-12T17:31:02.047188Z",
     "iopub.status.idle": "2024-09-12T17:31:02.047727Z",
     "shell.execute_reply": "2024-09-12T17:31:02.047493Z",
     "shell.execute_reply.started": "2024-09-12T17:31:02.047470Z"
    },
    "tags": []
   },
   "outputs": [],
   "source": [
    "contexts = [contexts] if not isinstance(contexts, list) else contexts"
   ]
  },
  {
   "cell_type": "code",
   "execution_count": null,
   "id": "5d3e84db-a8b5-4805-8706-bbd46447018c",
   "metadata": {
    "execution": {
     "iopub.status.busy": "2024-09-12T17:31:02.048924Z",
     "iopub.status.idle": "2024-09-12T17:31:02.049401Z",
     "shell.execute_reply": "2024-09-12T17:31:02.049201Z",
     "shell.execute_reply.started": "2024-09-12T17:31:02.049182Z"
    },
    "tags": []
   },
   "outputs": [],
   "source": [
    "print(type(ground_truth))"
   ]
  },
  {
   "cell_type": "code",
   "execution_count": null,
   "id": "8f1669f0-72fc-4703-8b10-6521eecef486",
   "metadata": {
    "execution": {
     "iopub.status.busy": "2024-09-12T17:31:02.050762Z",
     "iopub.status.idle": "2024-09-12T17:31:02.051395Z",
     "shell.execute_reply": "2024-09-12T17:31:02.051129Z",
     "shell.execute_reply.started": "2024-09-12T17:31:02.051103Z"
    },
    "tags": []
   },
   "outputs": [],
   "source": [
    "dataset"
   ]
  },
  {
   "cell_type": "code",
   "execution_count": null,
   "id": "65582a11-053e-46e7-9bfe-dfaabcb74305",
   "metadata": {},
   "outputs": [],
   "source": []
  }
 ],
 "metadata": {
  "kernelspec": {
   "display_name": "DataSphere Kernel",
   "language": "python",
   "name": "python3"
  },
  "language_info": {
   "codemirror_mode": {
    "name": "ipython",
    "version": 3
   },
   "file_extension": ".py",
   "mimetype": "text/x-python",
   "name": "python",
   "nbconvert_exporter": "python",
   "pygments_lexer": "ipython3",
   "version": "3.10.12"
  }
 },
 "nbformat": 4,
 "nbformat_minor": 5
}
