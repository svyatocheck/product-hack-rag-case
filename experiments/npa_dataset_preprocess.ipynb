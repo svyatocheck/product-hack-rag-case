{
 "cells": [
  {
   "cell_type": "code",
   "execution_count": 1,
   "metadata": {
    "colab": {
     "base_uri": "https://localhost:8080/"
    },
    "id": "n_PbLpUpNbNa",
    "outputId": "55faf93b-8189-42ea-e995-81a28a5dbc11",
    "tags": []
   },
   "outputs": [
    {
     "name": "stdout",
     "output_type": "stream",
     "text": [
      "Defaulting to user installation because normal site-packages is not writeable\n",
      "Requirement already satisfied: razdel in /home/jupyter/.local/lib/python3.10/site-packages (0.5.0)\n",
      "Requirement already satisfied: pymorphy2 in /usr/local/lib/python3.10/dist-packages (0.9.1)\n",
      "Requirement already satisfied: langchain in /home/jupyter/.local/lib/python3.10/site-packages (0.2.16)\n",
      "Requirement already satisfied: transformers in /home/jupyter/.local/lib/python3.10/site-packages (4.44.2)\n",
      "Requirement already satisfied: dawg-python>=0.7.1 in /usr/local/lib/python3.10/dist-packages (from pymorphy2) (0.7.2)\n",
      "Requirement already satisfied: pymorphy2-dicts-ru<3.0,>=2.4 in /usr/local/lib/python3.10/dist-packages (from pymorphy2) (2.4.417127.4579844)\n",
      "Requirement already satisfied: docopt>=0.6 in /usr/local/lib/python3.10/dist-packages (from pymorphy2) (0.6.2)\n",
      "Requirement already satisfied: PyYAML>=5.3 in /usr/local/lib/python3.10/dist-packages (from langchain) (6.0.1)\n",
      "Requirement already satisfied: SQLAlchemy<3,>=1.4 in /usr/local/lib/python3.10/dist-packages (from langchain) (2.0.19)\n",
      "Requirement already satisfied: aiohttp<4.0.0,>=3.8.3 in /home/jupyter/.local/lib/python3.10/site-packages (from langchain) (3.10.5)\n",
      "Requirement already satisfied: async-timeout<5.0.0,>=4.0.0 in /usr/local/lib/python3.10/dist-packages (from langchain) (4.0.2)\n",
      "Requirement already satisfied: langchain-core<0.3.0,>=0.2.38 in /home/jupyter/.local/lib/python3.10/site-packages (from langchain) (0.2.39)\n",
      "Requirement already satisfied: langchain-text-splitters<0.3.0,>=0.2.0 in /home/jupyter/.local/lib/python3.10/site-packages (from langchain) (0.2.4)\n",
      "Requirement already satisfied: langsmith<0.2.0,>=0.1.17 in /home/jupyter/.local/lib/python3.10/site-packages (from langchain) (0.1.116)\n",
      "Requirement already satisfied: numpy<2,>=1 in /home/jupyter/.local/lib/python3.10/site-packages (from langchain) (1.26.4)\n",
      "Requirement already satisfied: pydantic<3,>=1 in /home/jupyter/.local/lib/python3.10/site-packages (from langchain) (2.6.0)\n",
      "Requirement already satisfied: requests<3,>=2 in /home/jupyter/.local/lib/python3.10/site-packages (from langchain) (2.32.3)\n",
      "Requirement already satisfied: tenacity!=8.4.0,<9.0.0,>=8.1.0 in /home/jupyter/.local/lib/python3.10/site-packages (from langchain) (8.5.0)\n",
      "Requirement already satisfied: filelock in /usr/local/lib/python3.10/dist-packages (from transformers) (3.12.2)\n",
      "Requirement already satisfied: huggingface-hub<1.0,>=0.23.2 in /home/jupyter/.local/lib/python3.10/site-packages (from transformers) (0.24.7)\n",
      "Requirement already satisfied: packaging>=20.0 in /home/jupyter/.local/lib/python3.10/site-packages (from transformers) (23.2)\n",
      "Requirement already satisfied: regex!=2019.12.17 in /usr/local/lib/python3.10/dist-packages (from transformers) (2022.10.31)\n",
      "Requirement already satisfied: safetensors>=0.4.1 in /home/jupyter/.local/lib/python3.10/site-packages (from transformers) (0.4.5)\n",
      "Requirement already satisfied: tokenizers<0.20,>=0.19 in /home/jupyter/.local/lib/python3.10/site-packages (from transformers) (0.19.1)\n",
      "Requirement already satisfied: tqdm>=4.27 in /home/jupyter/.local/lib/python3.10/site-packages (from transformers) (4.66.5)\n",
      "Requirement already satisfied: aiohappyeyeballs>=2.3.0 in /home/jupyter/.local/lib/python3.10/site-packages (from aiohttp<4.0.0,>=3.8.3->langchain) (2.4.0)\n",
      "Requirement already satisfied: aiosignal>=1.1.2 in /usr/local/lib/python3.10/dist-packages (from aiohttp<4.0.0,>=3.8.3->langchain) (1.3.1)\n",
      "Requirement already satisfied: attrs>=17.3.0 in /usr/local/lib/python3.10/dist-packages (from aiohttp<4.0.0,>=3.8.3->langchain) (23.1.0)\n",
      "Requirement already satisfied: frozenlist>=1.1.1 in /usr/local/lib/python3.10/dist-packages (from aiohttp<4.0.0,>=3.8.3->langchain) (1.4.0)\n",
      "Requirement already satisfied: multidict<7.0,>=4.5 in /usr/local/lib/python3.10/dist-packages (from aiohttp<4.0.0,>=3.8.3->langchain) (6.0.4)\n",
      "Requirement already satisfied: yarl<2.0,>=1.0 in /usr/local/lib/python3.10/dist-packages (from aiohttp<4.0.0,>=3.8.3->langchain) (1.9.2)\n",
      "Requirement already satisfied: fsspec>=2023.5.0 in /home/jupyter/.local/lib/python3.10/site-packages (from huggingface-hub<1.0,>=0.23.2->transformers) (2024.9.0)\n",
      "Requirement already satisfied: typing-extensions>=3.7.4.3 in /home/jupyter/.local/lib/python3.10/site-packages (from huggingface-hub<1.0,>=0.23.2->transformers) (4.12.2)\n",
      "Requirement already satisfied: jsonpatch<2.0,>=1.33 in /home/jupyter/.local/lib/python3.10/site-packages (from langchain-core<0.3.0,>=0.2.38->langchain) (1.33)\n",
      "Requirement already satisfied: httpx<1,>=0.23.0 in /home/jupyter/.local/lib/python3.10/site-packages (from langsmith<0.2.0,>=0.1.17->langchain) (0.27.2)\n",
      "Requirement already satisfied: orjson<4.0.0,>=3.9.14 in /home/jupyter/.local/lib/python3.10/site-packages (from langsmith<0.2.0,>=0.1.17->langchain) (3.10.7)\n",
      "Requirement already satisfied: annotated-types>=0.4.0 in /home/jupyter/.local/lib/python3.10/site-packages (from pydantic<3,>=1->langchain) (0.7.0)\n",
      "Requirement already satisfied: pydantic-core==2.16.1 in /home/jupyter/.local/lib/python3.10/site-packages (from pydantic<3,>=1->langchain) (2.16.1)\n",
      "Requirement already satisfied: charset-normalizer<4,>=2 in /usr/local/lib/python3.10/dist-packages (from requests<3,>=2->langchain) (2.0.12)\n",
      "Requirement already satisfied: idna<4,>=2.5 in /usr/local/lib/python3.10/dist-packages (from requests<3,>=2->langchain) (3.4)\n",
      "Requirement already satisfied: urllib3<3,>=1.21.1 in /home/jupyter/.local/lib/python3.10/site-packages (from requests<3,>=2->langchain) (2.2.2)\n",
      "Requirement already satisfied: certifi>=2017.4.17 in /usr/local/lib/python3.10/dist-packages (from requests<3,>=2->langchain) (2023.7.22)\n",
      "Requirement already satisfied: greenlet!=0.4.17 in /usr/local/lib/python3.10/dist-packages (from SQLAlchemy<3,>=1.4->langchain) (2.0.2)\n",
      "Requirement already satisfied: anyio in /usr/local/lib/python3.10/dist-packages (from httpx<1,>=0.23.0->langsmith<0.2.0,>=0.1.17->langchain) (3.7.1)\n",
      "Requirement already satisfied: httpcore==1.* in /home/jupyter/.local/lib/python3.10/site-packages (from httpx<1,>=0.23.0->langsmith<0.2.0,>=0.1.17->langchain) (1.0.5)\n",
      "Requirement already satisfied: sniffio in /usr/local/lib/python3.10/dist-packages (from httpx<1,>=0.23.0->langsmith<0.2.0,>=0.1.17->langchain) (1.3.0)\n",
      "Requirement already satisfied: h11<0.15,>=0.13 in /home/jupyter/.local/lib/python3.10/site-packages (from httpcore==1.*->httpx<1,>=0.23.0->langsmith<0.2.0,>=0.1.17->langchain) (0.14.0)\n",
      "Requirement already satisfied: jsonpointer>=1.9 in /home/jupyter/.local/lib/python3.10/site-packages (from jsonpatch<2.0,>=1.33->langchain-core<0.3.0,>=0.2.38->langchain) (3.0.0)\n",
      "Requirement already satisfied: exceptiongroup in /usr/local/lib/python3.10/dist-packages (from anyio->httpx<1,>=0.23.0->langsmith<0.2.0,>=0.1.17->langchain) (1.1.2)\n",
      "\n",
      "\u001b[1m[\u001b[0m\u001b[34;49mnotice\u001b[0m\u001b[1;39;49m]\u001b[0m\u001b[39;49m A new release of pip is available: \u001b[0m\u001b[31;49m23.0.1\u001b[0m\u001b[39;49m -> \u001b[0m\u001b[32;49m24.2\u001b[0m\n",
      "\u001b[1m[\u001b[0m\u001b[34;49mnotice\u001b[0m\u001b[1;39;49m]\u001b[0m\u001b[39;49m To update, run: \u001b[0m\u001b[32;49mpython3 -m pip install --upgrade pip\u001b[0m\n"
     ]
    }
   ],
   "source": [
    "%pip install razdel pymorphy2 langchain transformers"
   ]
  },
  {
   "cell_type": "markdown",
   "metadata": {},
   "source": [
    "## Чтение документа"
   ]
  },
  {
   "cell_type": "code",
   "execution_count": 2,
   "metadata": {
    "id": "ueLmOpH19kaN",
    "tags": []
   },
   "outputs": [],
   "source": [
    "filepath = '/home/jupyter/datasphere/s3/hack-object-storage/dataset/hmao_npa.txt'\n",
    "with open(filepath, encoding='utf-8') as file:\n",
    "    dataset_text = file.read()"
   ]
  },
  {
   "cell_type": "code",
   "execution_count": 3,
   "metadata": {
    "tags": []
   },
   "outputs": [],
   "source": [
    "import re\n",
    "import string\n",
    "\n",
    "dataset_text = ''.join([char.lower() if not char.isdigit() and char is not None else char for char in dataset_text])\n",
    "dataset_text = re.sub('  ', ' ', dataset_text) # remove useless space\n",
    "dataset_text = re.sub(r'[\\x00-\\x1F\\x7F-\\x9F]+', '', dataset_text)"
   ]
  },
  {
   "cell_type": "code",
   "execution_count": 4,
   "metadata": {
    "tags": []
   },
   "outputs": [
    {
     "data": {
      "text/plain": [
       "'кабря 2017 г. n 139 о внесении изменений в приложение к постановлению губернатора ханты-мансийского автономного округа – югры от 30 декабря 2012 года n 176 \"об инструкции по делопроизводству в государ'"
      ]
     },
     "execution_count": 4,
     "metadata": {},
     "output_type": "execute_result"
    }
   ],
   "source": [
    "dataset_text[500:700]"
   ]
  },
  {
   "cell_type": "markdown",
   "metadata": {
    "id": "HgW_3h3HTfJX"
   },
   "source": [
    "## Разбиваем на чанки"
   ]
  },
  {
   "cell_type": "code",
   "execution_count": 5,
   "metadata": {
    "id": "-eaDdS8vTeiC",
    "tags": []
   },
   "outputs": [],
   "source": [
    "from langchain.text_splitter import RecursiveCharacterTextSplitter\n",
    "\n",
    "text_splitter = RecursiveCharacterTextSplitter(\n",
    "    chunk_size = 1024,\n",
    "    chunk_overlap = 128,\n",
    "    length_function = len,\n",
    "    is_separator_regex = False,\n",
    "    add_start_index = False\n",
    ")\n",
    "\n",
    "chunks = text_splitter.split_text(dataset_text)"
   ]
  },
  {
   "cell_type": "code",
   "execution_count": 6,
   "metadata": {
    "tags": []
   },
   "outputs": [
    {
     "data": {
      "text/plain": [
       "'грантов. 3.3. выплата грантов осуществляется путем перечисления денежных средств на счет учреждения. 3.4. средства грантов подлежат возврату получателем гранта в случае использования их с нарушением направлений, установленных пунктом 1.3 настоящего положения. приложение к положению о грантах правительства ханты-мансийского автономного округа - югры негосударственным общеобразовательным учреждениям в 2007 году требования к заявке учреждения на предоставление гранта 1. заявка учреждения (далее - заявка) должна включать следующие разделы: заявка органа самоуправления учреждения; титульный лист; описание программы (концепции) развития (далее - программа). 2. титульный лист необходим для регистрации заявки и оперативной обработки информации об учреждениях. титульный лист оформляется по следующей форме: название учреждения год основания       44$ адрес учреждения (почтовый, юридический)     адрес, телефон, факс ф.и.о. руководителя         название программы     краткое описание программы (10 строк)     ф.и.о.'"
      ]
     },
     "execution_count": 6,
     "metadata": {},
     "output_type": "execute_result"
    }
   ],
   "source": [
    "chunks[-2]"
   ]
  },
  {
   "cell_type": "markdown",
   "metadata": {
    "id": "Lo8n0hdiNRtl"
   },
   "source": [
    "токенизация\n"
   ]
  },
  {
   "cell_type": "code",
   "execution_count": 7,
   "metadata": {
    "id": "n8ozzypaJR-m"
   },
   "outputs": [],
   "source": [
    "#токенайзер\n",
    "\n",
    "# from razdel import tokenize, sentenize\n",
    "# tokenize(npa_text)"
   ]
  },
  {
   "cell_type": "markdown",
   "metadata": {
    "id": "kg2T8D7UOXOk"
   },
   "source": [
    "лемматизация"
   ]
  },
  {
   "cell_type": "code",
   "execution_count": 8,
   "metadata": {
    "id": "x-fyyuANOiNE"
   },
   "outputs": [],
   "source": [
    "# import pymorphy2\n",
    "# morph = pymorphy2.MorphAnalyzer()\n",
    "\n",
    "# def lemmatize(npa_text):\n",
    "#     words = npa_text.split()\n",
    "#     res = list()\n",
    "#     for word in words:\n",
    "#         p = morph.parse(word)[0]\n",
    "#         res.append(p.normal_form)\n",
    "\n",
    "#     return ' '.join(res)\n",
    "\n",
    "# dataset_text = lemmatize(dataset_text)\n"
   ]
  },
  {
   "cell_type": "markdown",
   "metadata": {
    "id": "rhULDTnBOxeO"
   },
   "source": [
    "stop words\n"
   ]
  },
  {
   "cell_type": "code",
   "execution_count": 9,
   "metadata": {
    "id": "rityVwgSO6d_"
   },
   "outputs": [],
   "source": [
    "# import nltk\n",
    "# nltk.download(\"stopwords\")\n",
    "\n",
    "# from nltk.corpus import stopwords\n",
    "# from string import punctuation\n",
    "\n",
    "# russian_stopwords = stopwords.words(\"russian\")\n",
    "\n",
    "# def remove_stopwords(npa_text):\n",
    "#   tokens = tokenizer.tokenize(npa_text)\n",
    "#   res = [token for token in tokens if token.lower() not in russian_stopwords\\\n",
    "#          and token not in punctuation]\n",
    "\n",
    "#   return ' '.join(res)\n",
    "\n",
    "# remove_stopwords(npa_text)\n"
   ]
  },
  {
   "cell_type": "code",
   "execution_count": 10,
   "metadata": {
    "id": "imzC5qmtPXaa"
   },
   "outputs": [],
   "source": [
    "# def preprocess_text(npa_text):\n",
    "#   text = remove_stopwords(npa_text)\n",
    "#   text = lemmatize(npa_text)\n",
    "\n",
    "#   return npa_text"
   ]
  },
  {
   "cell_type": "markdown",
   "metadata": {
    "id": "GDoNqInxPreC"
   },
   "source": []
  },
  {
   "cell_type": "code",
   "execution_count": 11,
   "metadata": {
    "id": "hxzmlEjVPrw_"
   },
   "outputs": [],
   "source": [
    "# tokenize(preprocess_text(npa_text))"
   ]
  },
  {
   "cell_type": "code",
   "execution_count": 12,
   "metadata": {
    "tags": []
   },
   "outputs": [],
   "source": [
    "with open(\"preprocessed_dataset_ver_4.txt\", 'w', encoding='utf-8') as file:\n",
    "    for message in chunks:\n",
    "        file.write(message)\n",
    "        file.write(\"</s>\\n\")    "
   ]
  },
  {
   "cell_type": "code",
   "execution_count": null,
   "metadata": {
    "execution": {
     "iopub.status.busy": "2024-09-12T14:41:11.633125948Z",
     "iopub.status.idle": "2024-09-12T14:41:11.633962138Z",
     "shell.execute_reply": "2024-09-12T14:41:11.633054707Z"
    },
    "tags": []
   },
   "outputs": [
    {
     "ename": "DatasetCount",
     "evalue": "Maximum 3 active datasets allowed per project",
     "output_type": "error",
     "traceback": []
    }
   ],
   "source": [
    "#!:bash\n",
    "#pragma dataset init npa_two --size 1Gb\n",
    "cp preprocessed_dataset_ver_4.txt /home/jupyter/datasphere/datasets/npa_two"
   ]
  },
  {
   "cell_type": "code",
   "execution_count": null,
   "metadata": {},
   "outputs": [],
   "source": []
  }
 ],
 "metadata": {
  "colab": {
   "provenance": []
  },
  "kernelspec": {
   "display_name": "DataSphere Kernel",
   "language": "python",
   "name": "python3"
  },
  "language_info": {
   "codemirror_mode": {
    "name": "ipython",
    "version": 3
   },
   "file_extension": ".py",
   "mimetype": "text/x-python",
   "name": "python",
   "nbconvert_exporter": "python",
   "pygments_lexer": "ipython3",
   "version": "3.10.12"
  }
 },
 "nbformat": 4,
 "nbformat_minor": 4
}
